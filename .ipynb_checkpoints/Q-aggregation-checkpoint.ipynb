{
 "cells": [
  {
   "cell_type": "markdown",
   "metadata": {},
   "source": [
    "#  Q-AGGREGATION"
   ]
  },
  {
   "cell_type": "markdown",
   "metadata": {},
   "source": [
    "Define the Q-functional : \n",
    "\n",
    "\\begin{align}\n",
    "\\begin{split}\n",
    "Q(\\theta) &= (1-\\nu) R_n(f_\\theta) &+ \\nu \\sum_{j=1} \\theta_j R_n(f_j) \\\\\n",
    "&= (1-\\nu) \\frac{1}{n} \\sum_{i=1}^n (y_i - f_\\theta(x_i))^2 &+ \\nu \\sum_{j=1}^M \\theta_j \\frac{1}{n} \\sum_{i=1}^n (y_i - f_j(x_i))^2 \\\\\n",
    "&= (1-\\nu) \\frac{1}{n} \\sum_{i=1}^n (y_i - \\sum_{j=1}^M \\theta_j f_j(x_i))^2 &+ \\nu \\sum_{j=1}^M \\theta_j \\frac{1}{n} \\sum_{i=1}^n (y_i - f_j(x_i))^2\\end{split}\n",
    "\\end{align}\n",
    "\n",
    "The Q-aggregate estimator verifies :\n",
    "\n",
    "\\begin{align}\n",
    "\\theta^Q = \\arg \\min_{\\theta \\in \\Theta} Q(\\theta)\n",
    "\\end{align}\n",
    "\n",
    "\n",
    "We can compute the partial derivatives of the Q-functional :\n",
    "\n",
    "\\begin{align}\n",
    "\\begin{split}\n",
    "\\frac{\\partial}{\\partial \\theta_l} Q(\\theta) &\\propto (1-\\nu) \\sum_{i=1}^n -2 f_l(x_i) \\left(y_i - \\sum_{j=1}^M \\lambda_j f_j(x_i)\\right) + \\nu \\sum_{i=1}^n (y_i - f_l(x_i))^2 \\\\\n",
    "&\\propto \\sum_{i=1}^n - 2 (1-\\nu) f_l(x_i) \\left(y_i - \\sum_{j=1}^M \\lambda_j f_j(x_i)\\right) + \\nu (y_i - f_l(x_i))^2\n",
    "\\end{split}\n",
    "\\end{align}\n",
    "\n",
    "and use greedy Frank-Wolfe algorithm as in Rigollet et al.\n",
    "\n",
    "We have shown that the performance of the algorithm deteriorates as we add outliers in the dataset.\n",
    "\n",
    "We thus introduced a MOM version of the Q-functional :\n",
    "\n",
    "\\begin{align}\n",
    "Q^{MOM}(\\theta) = (1-\\nu) MOM_K (f(\\theta)) + \\nu \\sum_{j=1}^M \\theta_j MOM_K(f(\\theta_j)) \n",
    "\\end{align}\n",
    "\n",
    "We implemented a MOM version of the greedy Frank Wolfe algorithm (similar to the MOM version of gradient descent, i.e. at each step we randomly constitute blocks, we find the block which has the median mean and proceed to a normal step of the algorithm with the data from this median block). This does not seem to work.\n",
    "\n",
    "The next idea is to try IP methods to solve this problem. Greedy FW had the advantage of returning a sparse solution, however it seems that, since once a function is selected, it is neither removed, each step is \"too\" important."
   ]
  },
  {
   "cell_type": "code",
   "execution_count": 1,
   "metadata": {},
   "outputs": [
    {
     "name": "stdout",
     "output_type": "stream",
     "text": [
      "Populating the interactive namespace from numpy and matplotlib\n"
     ]
    }
   ],
   "source": [
    "from sklearn.metrics import mean_squared_error\n",
    "\n",
    "from sklearn.datasets import make_regression\n",
    "from sklearn import linear_model\n",
    "from sklearn.model_selection import train_test_split\n",
    "\n",
    "import numpy as np\n",
    "\n",
    "import pandas as pd\n",
    "\n",
    "import matplotlib.pyplot as plt \n",
    "import seaborn as sns\n",
    "%pylab inline\n",
    "\n",
    "from tqdm import tqdm"
   ]
  },
  {
   "cell_type": "markdown",
   "metadata": {},
   "source": [
    "# Computations for IP method\n",
    "\n",
    "Objective function : \n",
    "\n",
    "\\begin{align}\n",
    "f_0(\\theta) = \\frac{(1-\\nu)}{|B_0^*|} \\sum_{i \\in B_0^*} \\left(y_i - \\sum_{j=1}^M \\theta_j f_j(x_i)\\right)^2 + \\nu \\sum_{j=1}^M \\theta_j \\frac{1}{|B_j^*|}\\sum_{i \\in B_j^*} \\left(y_i - f_j(x_i)\\right)^2 \n",
    "\\end{align}\n",
    "\n",
    "The first derivatives are given by :\n",
    "\n",
    "\\begin{align}\n",
    "\\frac{\\partial}{\\partial \\theta_l} f_0(\\theta) = \\frac{(1-\\nu)}{|B_0^*|} \\sum_{i \\in B_0^*} -2 f_l(x_i) \\left(y_i - \\sum_{j=1}^M \\theta_j f_j(x_i)\\right) + \\nu \\frac{1}{|B_l^*|}\\sum_{i \\in B_l^*} \\left(y_i - f_l(x_i)\\right)^2, \\quad  l=1, \\dots, M\n",
    "\\end{align}\n",
    "\n",
    "The second derivatives are given by, \n",
    "\\begin{align}\n",
    "\\frac{\\partial^2}{\\partial \\theta_l \\partial \\theta_m} f_0(\\theta) = \\frac{2(1-\\nu)}{|B_0^*|} \\sum_{i \\in B_0^*}f_l(x_i)f_m(x_i) \\quad l, m=1, \\dots, M\n",
    "\\end{align}"
   ]
  },
  {
   "cell_type": "code",
   "execution_count": 25,
   "metadata": {},
   "outputs": [],
   "source": [
    "class Q_aggregation():\n",
    "    \n",
    "    def __init__(self, predictors, nu=0.5, beta=0, trained_predictors=False):\n",
    "        \"\"\"\n",
    "        predictors : list of predictors ()\n",
    "        \"\"\"\n",
    "        self.predictors = predictors # list of predictors\n",
    "        self.M = len(predictors) # number of predictors\n",
    "        self.nu = nu # interpolation coefficient\n",
    "        self.beta = beta # temperature parameter for prior weights\n",
    "        self.trained_predictors = False # True for already trained predictors\n",
    "    \n",
    "    def set_prior_weights(self, prior_weights):\n",
    "        \"\"\"\n",
    "        Set prior weights (see the article for meaning of such quantities)\n",
    "        \"\"\"\n",
    "        self.pi = prior_weights\n",
    "        \n",
    "    def train_predictors(self, X, y):\n",
    "        self.predictors = [predictor.fit(X, y) for predictor in self.predictors] # trained_predictors\n",
    "        self.trained_predictors = True\n",
    "    \n",
    "    def Q(self, theta, X, y):\n",
    "        n, p = X.shape\n",
    "        predictions = np.zeros((n, self.M))\n",
    "        \n",
    "        for m, predictor in enumerate(self.predictors):\n",
    "            predictions[:, m] = predictor.predict(X)\n",
    "        \n",
    "        if theta.any()>0:\n",
    "            MSE_theta = mean_squared_error(np.average(predictions, axis=1, weights=theta), y)\n",
    "        else:\n",
    "            MSE_theta = mean_squared_error(np.zeros(y.shape), y)\n",
    "        \n",
    "        Q = (1-self.nu)*MSE_theta + self.nu*np.sum([theta[m]*mean_squared_error(predictions[:, m], y) \n",
    "                                                    for m in range(self.M)])\n",
    "        return Q\n",
    "        \n",
    "    def NablaQ(self, theta, X, y):\n",
    "        n, p = X.shape\n",
    "        \n",
    "        predictions = np.zeros((n, self.M))\n",
    "        \n",
    "        for m, predictor in enumerate(self.predictors):\n",
    "            predictions[:, m] = predictor.predict(X)\n",
    "        \n",
    "        derivatives = np.zeros(self.M)\n",
    "        for j in range(self.M):\n",
    "            for i in range(n):\n",
    "                if theta.any()>0:\n",
    "                    derivatives[j] += (-2*(1-self.nu)*predictions[i, j]*(y[i] - np.average(predictions[i, :], weights=theta))\n",
    "                                      + self.nu * (y[i] - predictions[i, j])**2)\n",
    "                else:\n",
    "                    derivatives[j] += (-2*(1-self.nu)*predictions[i, j]*y[i]\n",
    "                                      + self.nu * (y[i] - predictions[i, j])**2)\n",
    "        return derivatives\n",
    "    \n",
    "    def GMA_0(self, X, y, K):\n",
    "        \n",
    "        theta = np.zeros(self.M)\n",
    "        \n",
    "        for k in range(1, K):\n",
    "            \n",
    "            alpha = 2/(k+1)\n",
    "            \n",
    "            J = np.argmin([self.Q(theta, X, y) + alpha*(np.eye(self.M)[:, m] - theta) for m in range(self.M)])\n",
    "            \n",
    "            # option-1\n",
    "            theta = theta + alpha*(np.eye(self.M)[:, J] - theta)\n",
    "            \n",
    "        self.theta = theta\n",
    "        \n",
    "    def GMA_1(self, X, y, K):\n",
    "        \"\"\"\n",
    "        X : 2D numpy array, design matrix\n",
    "        y : 1D numpy array, target vector\n",
    "        K : integer, number of iterations\n",
    "        \"\"\"\n",
    "        theta = np.zeros(self.M)\n",
    "        \n",
    "        for k in range(1, K):            \n",
    "            alpha = 2/(k+1)\n",
    "                        \n",
    "            J = np.argmin(self.NablaQ(theta, X, y))\n",
    "                        \n",
    "            # option-1\n",
    "            theta = theta + alpha*(np.eye(self.M)[:, J] - theta)\n",
    "            \n",
    "        self.theta = theta\n",
    "    \n",
    "    def NablaQ_MOM(self, theta, predictions, y, aggregate_median_block_idx, individual_median_block_idx):\n",
    "                        \n",
    "        derivatives = np.zeros(self.M)\n",
    "        \n",
    "        for j in range(self.M):\n",
    "            for i in aggregate_median_block_idx:\n",
    "                if theta.any()>0:\n",
    "                    derivatives[j] += (-2*(1-self.nu)*predictions[i, j]*\n",
    "                                       (y[i] - np.average(predictions[i, :], weights=theta)))/30\n",
    "                else:\n",
    "                    derivatives[j] += (-2*(1-self.nu)*predictions[i, j]*y[i])/30\n",
    "                                           \n",
    "            for i in individual_median_block_idx[j, :]:\n",
    "                derivatives[j] += (self.nu * (y[i] - predictions[i, j])**2)/30\n",
    "\n",
    "        return derivatives\n",
    "    \n",
    "    def split_into_blocks(self, predictions, theta, n_blocks):\n",
    "        n = predictions.shape[0]\n",
    "        \n",
    "        # MOM risk for aggregate estimator\n",
    "        \n",
    "        # split data into n_blocks\n",
    "        blocks_idx = np.split(np.random.permutation(n), n_blocks)\n",
    "        \n",
    "        if theta.any()>0:\n",
    "            aggregate_pred = np.average(predictions, axis=1, weights = theta)\n",
    "        else:\n",
    "            aggregate_pred = np.zeros(n)\n",
    "        \n",
    "        # compute empirical risk on each block\n",
    "        block_risks = [mean_squared_error(aggregate_pred[block], y[block]) \n",
    "                       for block in blocks_idx]\n",
    "        # Index of median block\n",
    "        aggregate_median_block_idx = blocks_idx[numpy.argsort(block_risks)[n_blocks//2]]\n",
    "\n",
    "        individual_median_block_idx = np.zeros((self.M, len(blocks_idx[0])))\n",
    "\n",
    "        # MOM risk for each individual estimator\n",
    "        for m, predictor in enumerate(self.predictors):\n",
    "            # split data into n_blocks\n",
    "            blocks_idx = np.split(np.random.permutation(n), n_blocks)\n",
    "\n",
    "            block_risks = [mean_squared_error(predictions[block, m], y[block]) \n",
    "                       for block in blocks_idx]\n",
    "\n",
    "            individual_median_block_idx[m,:] = blocks_idx[numpy.argsort(block_risks)[n_blocks//2]]                                           \n",
    "\n",
    "        individual_median_block_idx = individual_median_block_idx.astype(int)\n",
    "        \n",
    "        return aggregate_median_block_idx, individual_median_block_idx\n",
    "\n",
    "        \n",
    "    def GMA_1_MOM(self, X, y, K, n_blocks):\n",
    "        theta = np.zeros(self.M)\n",
    "        \n",
    "        n, d = X.shape\n",
    "                \n",
    "        predictions = self.compute_individual_predictions(X)\n",
    "            \n",
    "        for k in range(1, K):\n",
    "            alpha = 2/(k+1)\n",
    "            \n",
    "            aggregate_median_block_idx, individual_median_block_idx = self.split_into_blocks(predictions, theta, n_blocks) \n",
    "            \n",
    "            J = np.argmin(self.NablaQ_MOM(theta, predictions, y, aggregate_median_block_idx, individual_median_block_idx))\n",
    "\n",
    "            theta = theta + alpha*(np.eye(self.M)[:, J] - theta)\n",
    "            \n",
    "        self.theta = theta\n",
    "        \n",
    "    # Interior point method\n",
    "\n",
    "    def gradient_Q(self, theta, y, F, B_star):\n",
    "        \"\"\"\n",
    "        Compute gradient of the Q-functional\n",
    "\n",
    "        Inputs :\n",
    "        theta: 1D array, current probability vector\n",
    "        y: 1D array, target vector\n",
    "        F: 2D array of shape (n_samples, n_predictors), prediction matrix\n",
    "        B_star: 2D array of shape (n_obs_per_block, n_predictors+1), indexes of obs in median blocks\n",
    "        \"\"\"\n",
    "        \n",
    "        n, M = F.shape\n",
    "        grad = np.zeros(M)\n",
    "        \n",
    "        # indexes of aggregate risk median block\n",
    "        B_0_star = B_star[:, 0]\n",
    "\n",
    "        n_samples_per_block = len(B_0_star) # =30 OK\n",
    "                \n",
    "        aggregate_error = y[B_0_star] - np.dot(F[B_0_star, :], theta)\n",
    "        \n",
    "        for l in range(M):\n",
    "            B_l_star = B_star[:, l+1]\n",
    "            \n",
    "            # to account for the fact that the first column correponds to indexes of obs from median aggregate block\n",
    "            \n",
    "            quadratic_term = np.sum(np.multiply(F[B_0_star, l], aggregate_error))\n",
    "            linear_term = np.linalg.norm(y[B_l_star] - F[B_l_star, l], ord=2)**2  \n",
    "            \n",
    "            grad[l] = -2*(1-self.nu)/n_samples_per_block*quadratic_term + self.nu/n_samples_per_block*linear_term\n",
    "\n",
    "        return grad\n",
    "\n",
    "    def hessian_Q(self, F, B_star):\n",
    "        \"\"\"\n",
    "        Compute Hessian of the Q-functional\n",
    "\n",
    "        Inputs :\n",
    "        F: 2D array of shape (n, M), prediction matrix\n",
    "        B_star: 2D array of shape (n_obs_per_block, n_predictors+1), indexes of obs in median blocks\n",
    "        \"\"\"\n",
    "        B_0_star = B_star[:, 0]\n",
    "        \n",
    "        H = 2*(1-self.nu)/len(B_0_star)*np.dot(F[B_0_star, :].T, F[B_0_star, :])\n",
    "                \n",
    "        return H\n",
    "        \n",
    "    def gradient_phi(self, theta):\n",
    "        \"\"\"\n",
    "        Compute gradient of the barrier function\n",
    "        \"\"\"\n",
    "        return -np.reciprocal(theta) # np.reciprocal returns coordinate-wise inverse\n",
    "        \n",
    "    def hessian_phi(self, theta):\n",
    "        \"\"\"\n",
    "        Compute Hessian of the barrier function\n",
    "        \"\"\"\n",
    "        return np.diag(np.reciprocal(theta**2))\n",
    "    \n",
    "    def KKT_system(self, grad_theta, hessian_theta):\n",
    "        \"\"\"\n",
    "        Compute KKT matrix and KKT \"bias\"\n",
    "        \n",
    "        Inputs :\n",
    "        theta: 1D array, aggregation parameter \n",
    "        grad_theta: gradient of the full objective (i.e. including barrier function) w.r.t. theta\n",
    "        hessian_theta: Hessian of the full objective (i.e. including barrier function) w.r.t. theta\n",
    "        \"\"\"\n",
    "        # upper part of KKT matrix ()\n",
    "        upper_left = hessian_theta # shape OK : (32, 32) \n",
    "        upper_right = np.ones(self.M).T # shape OK : (32, )        \n",
    "        upper = np.column_stack((upper_left, upper_right)) # shape OK : (32, 33)\n",
    "            \n",
    "        # lower part of KKT matrix (Lagrange multiplier eq)\n",
    "        lower_left = np.ones(self.M)\n",
    "        lower = np.concatenate((lower_left, np.zeros(1)))\n",
    "        \n",
    "        # form full KKT matrix\n",
    "        KKT_matrix = np.row_stack((upper, lower)) # shape OK : (33, 33)\n",
    "                \n",
    "        # form KKT bias\n",
    "        KKT_bias = np.concatenate((grad_theta, np.zeros(1))) # shape OK : (33,)\n",
    "        \n",
    "        return KKT_matrix, KKT_bias\n",
    "    \n",
    "    def squaredNewtonDecrement(self, grad_theta, hessian_theta):\n",
    "        \"\"\"\n",
    "        Compute squared Newton decrement\n",
    "        Input : gradient of full objective in theta, Hessian of full objective in theta\n",
    "        \"\"\"        \n",
    "        return np.dot(grad_theta.T, np.linalg.inv(hessian_theta).dot(grad_theta))\n",
    "    \n",
    "    def compute_individual_predictions(self, X):\n",
    "        \"\"\"\n",
    "        Compute predictions on sample for each predictor\n",
    "        \n",
    "        Input: feature matrix of shape (n_samples, d_samples)\n",
    "        \n",
    "        Return:\n",
    "        predictions: 2D array of shape (n_samples, n_predictors)\n",
    "        \"\"\"\n",
    "        predictions = np.zeros((X.shape[0], self.M))\n",
    "\n",
    "        for m, predictor in enumerate(self.predictors):\n",
    "                predictions[:, m] = predictor.predict(X)\n",
    "                \n",
    "        return predictions\n",
    "        \n",
    "    def newton_method(self, X, y, F, theta0, t, B_star, tol=1e-1):\n",
    "        \"\"\"\n",
    "        y: target vector\n",
    "        F: prediction matrix\n",
    "        theta0: initial theta for Newton method\n",
    "        t: float (>0), IP method parameter\n",
    "        B_star: 2D array, indexes\n",
    "        \"\"\"\n",
    "        \n",
    "        theta = theta0\n",
    "                \n",
    "        # compute gradient of full objective\n",
    "        grad_theta = t*self.gradient_Q(theta, y, F, B_star) + self.gradient_phi(theta)\n",
    "        \n",
    "        # compute Hessian of full objective\n",
    "        hessian_theta = t*self.hessian_Q(F, B_star) + self.hessian_phi(theta)\n",
    "                            \n",
    "        # compute squared decrement\n",
    "        squared_decrement = self.squaredNewtonDecrement(grad_theta, hessian_theta)\n",
    "        \n",
    "        while 0.5*squared_decrement > tol:\n",
    "            \n",
    "            # compute Newton Step\n",
    "            newton_step = -self.newton_step(grad_theta, hessian_theta)\n",
    "            \n",
    "            print(newton_step)\n",
    "            \n",
    "            # compute damped coefficient\n",
    "            damped_coeff = 1/(1 + np.sqrt(squared_decrement))\n",
    "                        \n",
    "            # update theta\n",
    "            theta += damped_coeff*newton_step\n",
    "            \n",
    "            # update gradient and Hessian in new theta\n",
    "            grad_theta = t*self.gradient_Q(theta, y, F, B_star) + self.gradient_phi(theta)\n",
    "            \n",
    "            hessian_theta = t*self.hessian_Q(F, B_star) + self.hessian_phi(theta)\n",
    "                        \n",
    "            # update squared decrement\n",
    "            squared_decrement = self.squaredNewtonDecrement(grad_theta, hessian_theta)\n",
    "            \n",
    "        return theta\n",
    "        \n",
    "    def newton_step(self, grad_theta , hessian_theta):\n",
    "        \"\"\"\n",
    "        Solve KKT system and return delta Newton step \n",
    "        \n",
    "        \"\"\"\n",
    "        KKT_matrix, KKT_bias = self.KKT_system(grad_theta, hessian_theta)\n",
    "        KKT_sol = np.linalg.solve(KKT_matrix, KKT_bias)\n",
    "        \n",
    "        delta_theta = KKT_sol[:-1]\n",
    "        \n",
    "        return delta_theta\n",
    "                \n",
    "    def IP_MOM(self, X, y, n_blocks, t=0, mu=5, tol=1e-1):\n",
    "        \"\"\"\n",
    "        MOM version of interior point method for Q-aggregation\n",
    "\n",
    "        Inputs :\n",
    "        X:\n",
    "        y:\n",
    "        n_blocks:\n",
    "        t:\n",
    "        mu:\n",
    "        tol:\n",
    "        \"\"\"\n",
    "\n",
    "        # initialization with a strictly feasible point\n",
    "        theta = np.ones(self.M)/self.M\n",
    "\n",
    "        # compute individual predictions\n",
    "        predictions = self.compute_individual_predictions(X)\n",
    "        # shape = (n_samples, n_predictors) OK\n",
    "                \n",
    "        # get median block indexes\n",
    "        aggregate_median_block_idx, individual_median_block_idx = self.split_into_blocks(predictions, theta, n_blocks)\n",
    "        B_star = np.column_stack((aggregate_median_block_idx, individual_median_block_idx.T))\n",
    "        # shape = (n_samples_per_block, n_predictors+1)      \n",
    "                    \n",
    "        # first step of newton_method\n",
    "        theta = self.newton_method(X, y, predictions, theta, t, B_star)\n",
    "\n",
    "        while 1/t > tol :\n",
    "            # get median block indexes\n",
    "            aggregate_median_block_idx, individual_median_block_idx = self.split_into_blocks(predictions, theta, n_blocks)\n",
    "            B_star = np.column_stack((aggregate_median_block_idx, individual_median_block_idx.T))\n",
    "            \n",
    "            theta = self.newton_method(X, y, predictions, theta, t, B_star)\n",
    "            \n",
    "            t = mu*t\n",
    "         \n",
    "        self.theta = theta\n",
    "        \n",
    "    def predict(self, X):\n",
    "        \"\"\"\n",
    "        X : 2D numpy array, feature vectors\n",
    "        \"\"\"\n",
    "        n, p = X.shape\n",
    "        predictions = np.zeros((n, self.M))\n",
    "\n",
    "        for m, predictor in enumerate(self.predictors):\n",
    "            predictions[:, m] = predictor.predict(X)\n",
    "            \n",
    "        return(np.average(predictions, axis=1, weights=self.theta))"
   ]
  },
  {
   "cell_type": "code",
   "execution_count": 26,
   "metadata": {
    "collapsed": true
   },
   "outputs": [],
   "source": [
    "X, y = make_regression(n_samples=200, n_features=15, n_informative=15, shuffle=False, noise=1.)\n",
    "\n",
    "y = 10*y/max(y)\n",
    "\n",
    "X_train, X_test, y_train, y_test  = train_test_split(X, y, test_size=0.2, random_state=1)\n",
    "\n",
    "X_train, X_val, y_train, y_val  = train_test_split(X_train, y_train, test_size=0.2, random_state=1)\n",
    "\n",
    "predictors = [linear_model.Ridge (alpha = alpha) for alpha in np.linspace(0, 30, 10)]\n",
    "predictors.append(linear_model.LinearRegression())\n",
    "predictors.append(linear_model.ElasticNet())\n",
    "for alpha in np.linspace(0, 20, 20):\n",
    "    predictors.append(linear_model.Lasso(alpha=alpha))"
   ]
  },
  {
   "cell_type": "code",
   "execution_count": 27,
   "metadata": {},
   "outputs": [
    {
     "name": "stdout",
     "output_type": "stream",
     "text": [
      "Regret : 1.1492543028346347e-16\n",
      "Fail : False\n"
     ]
    },
    {
     "name": "stderr",
     "output_type": "stream",
     "text": [
      "/Users/Schreuder/anaconda/lib/python3.5/site-packages/ipykernel_launcher.py:20: UserWarning: With alpha=0, this algorithm does not converge well. You are advised to use the LinearRegression estimator\n",
      "/Users/Schreuder/anaconda/lib/python3.5/site-packages/sklearn/linear_model/coordinate_descent.py:477: UserWarning: Coordinate descent with no regularization may lead to unexpected results and is discouraged.\n",
      "  positive)\n"
     ]
    }
   ],
   "source": [
    "q = Q_aggregation(predictors)\n",
    "q.train_predictors(X_train, y_train)\n",
    "q.GMA_1(X_val, y_val, 2)\n",
    "MSE_agg = mean_squared_error(q.predict(X_test), y_test)\n",
    "oracle_agg = np.min([mean_squared_error(q.predictors[i].predict(X_test), y_test) for i in range(len(predictors))])\n",
    "print('Regret : {}'.format(MSE_agg - oracle_agg))\n",
    "print(\"Fail : {}\".format(MSE_agg - oracle_agg > np.log(32)/200))"
   ]
  },
  {
   "cell_type": "markdown",
   "metadata": {
    "collapsed": true
   },
   "source": [
    "# Gaussian regression"
   ]
  },
  {
   "cell_type": "markdown",
   "metadata": {},
   "source": [
    "The model is defined by the following :\n",
    "\\begin{align}\n",
    "X \\sim \\mathcal{N}(0, I_d)\\\\\n",
    "\\xi \\sim \\mathcal{N}(0, \\sigma^2) \\\\\n",
    "Y = \\langle X, t^* \\rangle + \\xi\n",
    "\\end{align}"
   ]
  },
  {
   "cell_type": "code",
   "execution_count": 28,
   "metadata": {
    "collapsed": true
   },
   "outputs": [],
   "source": [
    "# Gaussian design + Gaussian noise\n",
    "def make_gaussian_regression(n_samples, d, noise_sd):\n",
    "    \"\"\"\n",
    "    n_samples : int, number of samples\n",
    "    d : int, number of features\n",
    "    noise_sd : float, standard deviation of the noise\n",
    "    \"\"\"\n",
    "    # Generate independent Gaussian features\n",
    "    X = np.random.multivariate_normal(np.zeros(d), np.eye(d), n_samples)\n",
    "\n",
    "    # Generate random regression parameter\n",
    "    t = np.random.poisson(lam=0.1, size=d)\n",
    "    # The smaller the mean of the Poisson the more t is sparse\n",
    "    \n",
    "    y = np.dot(X, t) + np.random.multivariate_normal(np.zeros(n_samples), \n",
    "                                                     noise_sd**2*np.eye(n_samples))\n",
    "    \n",
    "    return X, y\n",
    "\n",
    "\n",
    "# Example \n",
    "n, d = 1000, 50\n",
    "noise_sd = .5\n",
    "n_samples=1000\n",
    "\n",
    "X, y = make_gaussian_regression(n_samples, d, noise_sd)"
   ]
  },
  {
   "cell_type": "code",
   "execution_count": 29,
   "metadata": {
    "collapsed": true
   },
   "outputs": [],
   "source": [
    "def train_agg_test_split(X, y, train_size, agg_size, random_state=None):\n",
    "    \"\"\"\n",
    "    Split dataset in 3 non overlapping datasets\n",
    "    X : 2D numpy array, feature matrix of shape n_samples*d\n",
    "    y : 1D numpy array, targer vector of shape n_samples\n",
    "    train_size : proportion of obs from original dataset in training dataset\n",
    "    train_size : proportion of obs from original dataset in aggregation dataset\n",
    "    random_state : int, numpy seed\n",
    "    \"\"\"\n",
    "    if random_state != None:\n",
    "        np.random.seed(random_state)\n",
    "    \n",
    "    n, d = X.shape\n",
    "    \n",
    "    # Shuffle observations\n",
    "    idx = np.random.permutation(n)\n",
    "    X, y = X[idx], y[idx]\n",
    "    \n",
    "    assert train_size + agg_size < 1\n",
    "    train_idx = int(n*train_size)\n",
    "    X_train, y_train = X[:train_idx], y[:train_idx]\n",
    "    \n",
    "    agg_idx = train_idx + int(n*agg_size)\n",
    "    X_agg, y_agg = X[train_idx:agg_idx], y[train_idx:agg_idx]\n",
    "    \n",
    "    X_test, y_test = X[agg_idx:], y[agg_idx:]\n",
    "    \n",
    "    return X_train, X_agg, X_test, y_train, y_agg, y_test\n",
    "\n",
    "X_train, X_agg, X_test, y_train, y_agg, y_test = train_agg_test_split(X, y, 0.4, 0.3)"
   ]
  },
  {
   "cell_type": "code",
   "execution_count": 30,
   "metadata": {
    "collapsed": true
   },
   "outputs": [],
   "source": [
    "def make_function_class_regression():\n",
    "    # Ridge\n",
    "    predictors = [linear_model.Ridge (alpha = alpha) for alpha in np.linspace(0.1, 30, 10)]\n",
    "    \n",
    "    # Linear Regression\n",
    "    predictors.append(linear_model.LinearRegression())\n",
    "    \n",
    "    # Elastic Net\n",
    "    predictors.append(linear_model.ElasticNet())\n",
    "    \n",
    "    # Lasso\n",
    "    for alpha in np.linspace(0.1, 20, 20):\n",
    "        predictors.append(linear_model.Lasso(alpha=alpha))\n",
    "\n",
    "    return predictors\n",
    "predictors = make_function_class_regression()"
   ]
  },
  {
   "cell_type": "code",
   "execution_count": 31,
   "metadata": {
    "collapsed": true
   },
   "outputs": [],
   "source": [
    "def corrupt_dataset(X_agg, y_agg, prop_outliers, corruption_type='constant'):\n",
    "    n, d = X_agg.shape\n",
    "    \n",
    "    assert prop_outliers >= 0 and prop_outliers <= 1\n",
    "    \n",
    "    n_outliers = int(prop_outliers*n)\n",
    "    \n",
    "    outliers_idx = np.random.choice(n, n_outliers, replace=False)\n",
    "        \n",
    "    if corruption_type == 'constant':\n",
    "        y_agg[outliers_idx] = 50\n",
    "    \n",
    "    return X_agg, y_agg\n",
    "\n",
    "#X_agg, y_agg = corrupt_dataset(X_agg, y_agg, prop_outliers=0.1, corruption_type='constant')"
   ]
  },
  {
   "cell_type": "code",
   "execution_count": 32,
   "metadata": {},
   "outputs": [
    {
     "data": {
      "text/plain": [
       "0.011552453009332421"
      ]
     },
     "execution_count": 32,
     "metadata": {},
     "output_type": "execute_result"
    }
   ],
   "source": [
    "def compute_fast_residual_term(n_predictors, n_samples):\n",
    "    return np.log(n_predictors)/n_samples\n",
    "\n",
    "fast_residual_term = compute_fast_residual_term(len(predictors), y_agg.shape[0])\n",
    "fast_residual_term"
   ]
  },
  {
   "cell_type": "code",
   "execution_count": 33,
   "metadata": {},
   "outputs": [
    {
     "name": "stdout",
     "output_type": "stream",
     "text": [
      "0.005083963407851055\n"
     ]
    }
   ],
   "source": [
    "n, d = 100, 50\n",
    "noise_sd = .5\n",
    "\n",
    "regrets = []\n",
    "for i in range(1):\n",
    "    X, y = make_gaussian_regression(n_samples, d, noise_sd)\n",
    "\n",
    "    X_train, X_agg, X_test, y_train, y_agg, y_test = train_agg_test_split(X, y, 0.4, 0.3)\n",
    "\n",
    "    predictors = make_function_class_regression()\n",
    "\n",
    "    q = Q_aggregation(predictors)\n",
    "\n",
    "    q.train_predictors(X_train, y_train)\n",
    "\n",
    "    #q.GMA_1(X_agg, y_agg, 2)\n",
    "\n",
    "    q.IP_MOM(X_agg, y_agg, n_blocks=10, t=1, mu=5, tol=1e-1)\n",
    "    \n",
    "    MSE_agg = mean_squared_error(q.predict(X_test), y_test)\n",
    "\n",
    "    oracle_agg = np.min([mean_squared_error(q.predictors[i].predict(X_test), y_test) for i in range(len(predictors))])\n",
    "\n",
    "    regrets.append(MSE_agg - oracle_agg)\n",
    "print(np.mean(regrets))"
   ]
  },
  {
   "cell_type": "code",
   "execution_count": null,
   "metadata": {
    "collapsed": true
   },
   "outputs": [],
   "source": [
    "c = np.ones(2)\n",
    "c"
   ]
  },
  {
   "cell_type": "code",
   "execution_count": 315,
   "metadata": {},
   "outputs": [
    {
     "data": {
      "text/plain": [
       "array([1., 1., 0.])"
      ]
     },
     "execution_count": 315,
     "metadata": {},
     "output_type": "execute_result"
    }
   ],
   "source": [
    "np.concatenate((c, np.zeros(1)))"
   ]
  },
  {
   "cell_type": "code",
   "execution_count": null,
   "metadata": {
    "collapsed": true
   },
   "outputs": [],
   "source": [
    "A = np.matrix(([0, 0], [1, 1]))\n",
    "A"
   ]
  },
  {
   "cell_type": "code",
   "execution_count": null,
   "metadata": {
    "collapsed": true
   },
   "outputs": [],
   "source": [
    "n, d = 1000, 50\n",
    "noise_sd = .5\n",
    "\n",
    "regrets = []\n",
    "for i in range(500):\n",
    "    X, y = make_gaussian_regression(n_samples, d, noise_sd)\n",
    "\n",
    "    X_train, X_agg, X_test, y_train, y_agg, y_test = train_agg_test_split(X, y, 0.4, 0.3)\n",
    "\n",
    "    predictors = make_function_class_regression()\n",
    "\n",
    "    q = Q_aggregation(predictors)\n",
    "\n",
    "    q.train_predictors(X_train, y_train)\n",
    "\n",
    "    X_agg, y_agg = corrupt_dataset(X_agg, y_agg, prop_outliers=.5, corruption_type='constant')\n",
    "\n",
    "\n",
    "    q.GMA_1(X_agg, y_agg, 2)\n",
    "\n",
    "    MSE_agg = mean_squared_error(q.predict(X_test), y_test)\n",
    "\n",
    "    oracle_agg = np.min([mean_squared_error(q.predictors[i].predict(X_test), y_test) for i in range(len(predictors))])\n",
    "    worst_agg = np.max([mean_squared_error(q.predictors[i].predict(X_test), y_test) for i in range(len(predictors))])\n",
    "    regrets.append(MSE_agg - oracle_agg)\n",
    "print(np.mean(regrets))"
   ]
  },
  {
   "cell_type": "code",
   "execution_count": null,
   "metadata": {
    "collapsed": true,
    "scrolled": true
   },
   "outputs": [],
   "source": [
    "outliers_props = np.linspace(0, 1, 5)\n",
    "n_replicate = 300\n",
    "regrets = np.zeros((n_replicate, len(outliers_props)))\n",
    "for j, prop_outliers in enumerate(outliers_props):\n",
    "    print(j)\n",
    "    n, d = 1000, 50\n",
    "    noise_sd = .5\n",
    "    for i in range(n_replicate):\n",
    "        X, y = make_gaussian_regression(n_samples, d, noise_sd)\n",
    "\n",
    "        X_train, X_agg, X_test, y_train, y_agg, y_test = train_agg_test_split(X, y, 0.4, 0.3)\n",
    "\n",
    "        predictors = make_function_class_regression()\n",
    "\n",
    "        q = Q_aggregation(predictors)\n",
    "\n",
    "        q.train_predictors(X_train, y_train)\n",
    "\n",
    "        X_agg, y_agg = corrupt_dataset(X_agg, y_agg, prop_outliers=prop_outliers, corruption_type='constant')\n",
    "\n",
    "\n",
    "        q.GMA_1(X_agg, y_agg, 2)\n",
    "\n",
    "        MSE_agg = mean_squared_error(q.predict(X_test), y_test)\n",
    "\n",
    "        oracle_agg = np.min([mean_squared_error(q.predictors[i].predict(X_test), y_test) for i in range(len(predictors))])\n",
    "        worst_agg = np.max([mean_squared_error(q.predictors[i].predict(X_test), y_test) for i in range(len(predictors))])\n",
    "        regrets[i,j] = MSE_agg - oracle_agg"
   ]
  },
  {
   "cell_type": "code",
   "execution_count": 13,
   "metadata": {},
   "outputs": [
    {
     "ename": "NameError",
     "evalue": "name 'pd' is not defined",
     "output_type": "error",
     "traceback": [
      "\u001b[0;31m---------------------------------------------------------------------------\u001b[0m",
      "\u001b[0;31mNameError\u001b[0m                                 Traceback (most recent call last)",
      "\u001b[0;32m<ipython-input-13-90cf259c06a8>\u001b[0m in \u001b[0;36m<module>\u001b[0;34m()\u001b[0m\n\u001b[0;32m----> 1\u001b[0;31m \u001b[0mdf\u001b[0m \u001b[0;34m=\u001b[0m \u001b[0mpd\u001b[0m\u001b[0;34m.\u001b[0m\u001b[0mDataFrame\u001b[0m\u001b[0;34m(\u001b[0m\u001b[0mregrets\u001b[0m\u001b[0;34m)\u001b[0m\u001b[0;34m\u001b[0m\u001b[0m\n\u001b[0m\u001b[1;32m      2\u001b[0m \u001b[0mdf\u001b[0m\u001b[0;34m.\u001b[0m\u001b[0mcolumns\u001b[0m \u001b[0;34m=\u001b[0m \u001b[0moutliers_props\u001b[0m\u001b[0;34m\u001b[0m\u001b[0m\n",
      "\u001b[0;31mNameError\u001b[0m: name 'pd' is not defined"
     ]
    }
   ],
   "source": [
    "df = pd.DataFrame(regrets)\n",
    "df.columns = outliers_props"
   ]
  },
  {
   "cell_type": "code",
   "execution_count": 14,
   "metadata": {},
   "outputs": [
    {
     "ename": "NameError",
     "evalue": "name 'sns' is not defined",
     "output_type": "error",
     "traceback": [
      "\u001b[0;31m---------------------------------------------------------------------------\u001b[0m",
      "\u001b[0;31mNameError\u001b[0m                                 Traceback (most recent call last)",
      "\u001b[0;32m<ipython-input-14-a88b387dcb24>\u001b[0m in \u001b[0;36m<module>\u001b[0;34m()\u001b[0m\n\u001b[1;32m      1\u001b[0m \u001b[0;34m\u001b[0m\u001b[0m\n\u001b[0;32m----> 2\u001b[0;31m \u001b[0max\u001b[0m \u001b[0;34m=\u001b[0m \u001b[0msns\u001b[0m\u001b[0;34m.\u001b[0m\u001b[0mviolinplot\u001b[0m\u001b[0;34m(\u001b[0m\u001b[0mdf\u001b[0m\u001b[0;34m,\u001b[0m \u001b[0mscale\u001b[0m\u001b[0;34m=\u001b[0m\u001b[0;34m'count'\u001b[0m\u001b[0;34m)\u001b[0m\u001b[0;34m\u001b[0m\u001b[0m\n\u001b[0m\u001b[1;32m      3\u001b[0m \u001b[0max\u001b[0m\u001b[0;34m.\u001b[0m\u001b[0mset\u001b[0m\u001b[0;34m(\u001b[0m\u001b[0myscale\u001b[0m\u001b[0;34m=\u001b[0m\u001b[0;34m\"log\"\u001b[0m\u001b[0;34m)\u001b[0m\u001b[0;34m\u001b[0m\u001b[0m\n\u001b[1;32m      4\u001b[0m \u001b[0;31m#ax.set_ylim(0, 5)\u001b[0m\u001b[0;34m\u001b[0m\u001b[0;34m\u001b[0m\u001b[0m\n\u001b[1;32m      5\u001b[0m \u001b[0max\u001b[0m\u001b[0;34m.\u001b[0m\u001b[0mhlines\u001b[0m\u001b[0;34m(\u001b[0m\u001b[0mfast_residual_term\u001b[0m\u001b[0;34m,\u001b[0m \u001b[0;34m*\u001b[0m\u001b[0max\u001b[0m\u001b[0;34m.\u001b[0m\u001b[0mget_xlim\u001b[0m\u001b[0;34m(\u001b[0m\u001b[0;34m)\u001b[0m\u001b[0;34m,\u001b[0m \u001b[0malpha\u001b[0m\u001b[0;34m=\u001b[0m\u001b[0;36m0.7\u001b[0m\u001b[0;34m,\u001b[0m \u001b[0mcolor\u001b[0m\u001b[0;34m=\u001b[0m\u001b[0;34m'black'\u001b[0m\u001b[0;34m,\u001b[0m \u001b[0mlinestyle\u001b[0m\u001b[0;34m=\u001b[0m\u001b[0;34m'dashed'\u001b[0m\u001b[0;34m,\u001b[0m \u001b[0mlabel\u001b[0m\u001b[0;34m=\u001b[0m\u001b[0;34m'Optimal regret'\u001b[0m\u001b[0;34m)\u001b[0m\u001b[0;34m\u001b[0m\u001b[0m\n",
      "\u001b[0;31mNameError\u001b[0m: name 'sns' is not defined"
     ]
    }
   ],
   "source": [
    "ax = sns.violinplot(df, scale='count')\n",
    "ax.set(yscale=\"log\")\n",
    "#ax.set_ylim(0, 5)\n",
    "ax.hlines(fast_residual_term, *ax.get_xlim(), alpha=0.7, color='black', linestyle='dashed', label='Optimal regret')\n",
    "plt.legend()\n",
    "plt.title('Distributions of the regret for Q-aggregation')\n",
    "plt.xlabel('Proportion of outliers')\n",
    "plt.ylabel('Regret (log-scale)')"
   ]
  },
  {
   "cell_type": "code",
   "execution_count": 438,
   "metadata": {},
   "outputs": [
    {
     "data": {
      "image/png": "[encoded data removed]",
      "text/plain": [
       "<matplotlib.figure.Figure at 0x11a519a20>"
      ]
     },
     "metadata": {},
     "output_type": "display_data"
    },
    {
     "data": {
      "image/png": "[encoded data removed]",
      "text/plain": [
       "<matplotlib.figure.Figure at 0x11a995828>"
      ]
     },
     "metadata": {},
     "output_type": "display_data"
    },
    {
     "data": {
      "image/png": "[encoded data removed]",
      "text/plain": [
       "<matplotlib.figure.Figure at 0x11a6dc978>"
      ]
     },
     "metadata": {},
     "output_type": "display_data"
    },
    {
     "data": {
      "image/png": "[encoded data removed]",
      "text/plain": [
       "<matplotlib.figure.Figure at 0x11b3f9b38>"
      ]
     },
     "metadata": {},
     "output_type": "display_data"
    },
    {
     "data": {
      "image/png": "[encoded data removed]",
      "text/plain": [
       "<matplotlib.figure.Figure at 0x11aa9fa20>"
      ]
     },
     "metadata": {},
     "output_type": "display_data"
    }
   ],
   "source": [
    "for i in range(5):\n",
    "    plt.hist(regrets[:,i], bins=20)\n",
    "    plt.axvline(fast_residual_term)\n",
    "    plt.show()"
   ]
  },
  {
   "cell_type": "markdown",
   "metadata": {},
   "source": [
    "# MOM version"
   ]
  },
  {
   "cell_type": "code",
   "execution_count": 13,
   "metadata": {},
   "outputs": [
    {
     "data": {
      "text/plain": [
       "19"
      ]
     },
     "execution_count": 13,
     "metadata": {},
     "output_type": "execute_result"
    }
   ],
   "source": [
    "# find median index\n",
    "data = [0, 5, 3, 6, 23, 15, 19, 20, 19, 21]\n",
    "data[numpy.argsort(data)[len(data)//2]]"
   ]
  },
  {
   "cell_type": "code",
   "execution_count": 34,
   "metadata": {},
   "outputs": [
    {
     "name": "stderr",
     "output_type": "stream",
     "text": [
      "100%|██████████| 10/10 [00:25<00:00,  2.56s/it]\n"
     ]
    }
   ],
   "source": [
    "regrets_MOM = []\n",
    "\n",
    "n_replicate = 10\n",
    "\n",
    "for i in tqdm(range(n_replicate)):\n",
    "    X, y = make_gaussian_regression(n_samples, d, noise_sd)\n",
    "\n",
    "    X_train, X_agg, X_test, y_train, y_agg, y_test = train_agg_test_split(X, y, 0.4, 0.3)\n",
    "\n",
    "    predictors = make_function_class_regression()\n",
    "\n",
    "    q = Q_aggregation(predictors)\n",
    "\n",
    "    q.train_predictors(X_train, y_train)\n",
    "\n",
    "    X_agg, y_agg = corrupt_dataset(X_agg, y_agg, prop_outliers=.25, corruption_type='constant')\n",
    "\n",
    "    q.GMA_1_MOM(X_agg, y_agg, 30, 10)\n",
    "\n",
    "    MSE_agg = mean_squared_error(q.predict(X_test), y_test)\n",
    "\n",
    "    oracle_agg = np.min([mean_squared_error(q.predictors[i].predict(X_test), y_test) for i in range(len(predictors))])\n",
    "    worst_agg = np.max([mean_squared_error(q.predictors[i].predict(X_test), y_test) for i in range(len(predictors))])\n",
    "    regrets_MOM.append(MSE_agg - oracle_agg)"
   ]
  },
  {
   "cell_type": "code",
   "execution_count": 20,
   "metadata": {},
   "outputs": [
    {
     "name": "stderr",
     "output_type": "stream",
     "text": [
      "100%|██████████| 300/300 [40:21<00:00,  8.07s/it]\n"
     ]
    }
   ],
   "source": [
    "regrets = []\n",
    "for i in tqdm(range(n_replicate)):\n",
    "    X, y = make_gaussian_regression(n_samples, d, noise_sd)\n",
    "\n",
    "    X_train, X_agg, X_test, y_train, y_agg, y_test = train_agg_test_split(X, y, 0.4, 0.3)\n",
    "\n",
    "    predictors = make_function_class_regression()\n",
    "\n",
    "    q = Q_aggregation(predictors)\n",
    "\n",
    "    q.train_predictors(X_train, y_train)\n",
    "\n",
    "    X_agg, y_agg = corrupt_dataset(X_agg, y_agg, prop_outliers=.25, corruption_type='constant')\n",
    "\n",
    "    q.GMA_1(X_agg, y_agg, 30)\n",
    "\n",
    "    MSE_agg = mean_squared_error(q.predict(X_test), y_test)\n",
    "\n",
    "    oracle_agg = np.min([mean_squared_error(q.predictors[i].predict(X_test), y_test) for i in range(len(predictors))])\n",
    "    worst_agg = np.max([mean_squared_error(q.predictors[i].predict(X_test), y_test) for i in range(len(predictors))])\n",
    "    regrets.append(MSE_agg - oracle_agg)"
   ]
  },
  {
   "cell_type": "code",
   "execution_count": 27,
   "metadata": {
    "collapsed": true
   },
   "outputs": [],
   "source": [
    "regrets_array = np.array([regrets, regrets_MOM]).T\n",
    "df_2 = pd.DataFrame(regrets_array) \n",
    "df_2.columns = [\"Q-aggregation\", \"MOM-Q-aggregation\"]"
   ]
  },
  {
   "cell_type": "code",
   "execution_count": 32,
   "metadata": {
    "scrolled": true
   },
   "outputs": [
    {
     "data": {
      "text/plain": [
       "<matplotlib.collections.LineCollection at 0x11b2f0550>"
      ]
     },
     "execution_count": 32,
     "metadata": {},
     "output_type": "execute_result"
    },
    {
     "data": {
      "image/png": "[encoded data removed]",
      "text/plain": [
       "<matplotlib.figure.Figure at 0x10a37fd30>"
      ]
     },
     "metadata": {},
     "output_type": "display_data"
    }
   ],
   "source": [
    "ax = sns.violinplot(data=df_2, shape='count')\n",
    "ax.hlines(fast_residual_term, *ax.get_xlim(), alpha=0.7, color='black', linestyle='dashed', label='Optimal regret')"
   ]
  },
  {
   "cell_type": "code",
   "execution_count": 29,
   "metadata": {
    "scrolled": true
   },
   "outputs": [
    {
     "data": {
      "text/plain": [
       "0.011552453009332421"
      ]
     },
     "execution_count": 29,
     "metadata": {},
     "output_type": "execute_result"
    }
   ],
   "source": [
    "fast_residual_term = np.log(len(predictors))/y_agg.shape[0]\n",
    "fast_residual_term"
   ]
  },
  {
   "cell_type": "code",
   "execution_count": 1,
   "metadata": {
    "collapsed": true
   },
   "outputs": [],
   "source": []
  },
  {
   "cell_type": "code",
   "execution_count": null,
   "metadata": {
    "collapsed": true
   },
   "outputs": [],
   "source": [
    "def newton_method(theta, B_star):\n",
    "    "
   ]
  }
 ],
 "metadata": {
  "kernelspec": {
   "display_name": "Python 3",
   "language": "python",
   "name": "python3"
  },
  "language_info": {
   "codemirror_mode": {
    "name": "ipython",
    "version": 3
   },
   "file_extension": ".py",
   "mimetype": "text/x-python",
   "name": "python",
   "nbconvert_exporter": "python",
   "pygments_lexer": "ipython3",
   "version": "3.5.3"
  }
 },
 "nbformat": 4,
 "nbformat_minor": 2
}
