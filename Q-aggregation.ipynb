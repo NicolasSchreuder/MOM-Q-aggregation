{
 "cells": [
  {
   "cell_type": "markdown",
   "metadata": {},
   "source": [
    "#  Q-AGGREGATION"
   ]
  },
  {
   "cell_type": "markdown",
   "metadata": {},
   "source": [
    "Define the Q-functional : \n",
    "\n",
    "\\begin{align}\n",
    "\\begin{split}\n",
    "Q(\\theta) &= (1-\\nu) R_n(f_\\theta) &+ \\nu \\sum_{j=1} \\theta_j R_n(f_j) \\\\\n",
    "&= (1-\\nu) \\frac{1}{n} \\sum_{i=1}^n (y_i - f_\\theta(x_i))^2 &+ \\nu \\sum_{j=1}^M \\theta_j \\frac{1}{n} \\sum_{i=1}^n (y_i - f_j(x_i))^2 \\\\\n",
    "&= (1-\\nu) \\frac{1}{n} \\sum_{i=1}^n (y_i - \\sum_{j=1}^M \\theta_j f_j(x_i))^2 &+ \\nu \\sum_{j=1}^M \\theta_j \\frac{1}{n} \\sum_{i=1}^n (y_i - f_j(x_i))^2\\end{split}\n",
    "\\end{align}\n",
    "\n",
    "The Q-aggregate estimator verifies :\n",
    "\n",
    "\\begin{align}\n",
    "\\theta^Q \\in \\arg \\min_{\\theta \\in \\Theta} Q(\\theta)\n",
    "\\end{align}\n",
    "\n",
    "\n",
    "We can compute the partial derivatives of the Q-functional :\n",
    "\n",
    "\\begin{align}\n",
    "\\begin{split}\n",
    "\\frac{\\partial}{\\partial \\theta_l} Q(\\theta) &\\propto (1-\\nu) \\sum_{i=1}^n -2 f_l(x_i) \\left(y_i - \\sum_{j=1}^M \\lambda_j f_j(x_i)\\right) + \\nu \\sum_{i=1}^n (y_i - f_l(x_i))^2 \\\\\n",
    "&\\propto \\sum_{i=1}^n - 2 (1-\\nu) f_l(x_i) \\left(y_i - \\sum_{j=1}^M \\lambda_j f_j(x_i)\\right) + \\nu (y_i - f_l(x_i))^2\n",
    "\\end{split}\n",
    "\\end{align}\n",
    "\n",
    "and use greedy Frank-Wolfe algorithm as in Rigollet et al.\n",
    "\n",
    "We have shown that the performance of the algorithm deteriorates as we add outliers in the dataset.\n",
    "\n",
    "We thus introduced a MOM version of the Q-functional :\n",
    "\n",
    "\\begin{align}\n",
    "Q^{MOM}(\\theta) = (1-\\nu) MOM_K (f(\\theta)) + \\nu \\sum_{j=1}^M \\theta_j MOM_K(f(\\theta_j)) \n",
    "\\end{align}\n",
    "\n",
    "We implemented a MOM version of the greedy Frank Wolfe algorithm (similar to the MOM version of gradient descent, i.e. at each step we randomly constitute blocks, we find the block which has the median mean and proceed to a normal step of the algorithm with the data from this median block). This does seem to work.\n",
    "\n",
    "The next idea is to try IP methods to solve this problem. Greedy FW had the advantage of returning a sparse solution, however it seems that, since once a function is selected, it is neither removed, each step is \"too\" important."
   ]
  },
  {
   "cell_type": "code",
   "execution_count": 1,
   "metadata": {
    "scrolled": true
   },
   "outputs": [
    {
     "name": "stdout",
     "output_type": "stream",
     "text": [
      "Populating the interactive namespace from numpy and matplotlib\n"
     ]
    }
   ],
   "source": [
    "import numpy as np\n",
    "\n",
    "import pandas as pd\n",
    "\n",
    "import matplotlib.pyplot as plt \n",
    "import seaborn as sns\n",
    "%pylab inline\n",
    "\n",
    "%load_ext autoreload\n",
    "%autoreload 1\n",
    "\n",
    "from Qagg import Q_aggregation\n",
    "from test_functions import *\n",
    "%aimport Qagg \n",
    "%aimport test_functions"
   ]
  },
  {
   "cell_type": "markdown",
   "metadata": {
    "collapsed": true
   },
   "source": [
    "# Gaussian regression"
   ]
  },
  {
   "cell_type": "markdown",
   "metadata": {},
   "source": [
    "We begin by consider a simple Gaussian regression model.\n",
    "\n",
    "The model is defined by the following distributions :\n",
    "\\begin{align}\n",
    "X \\sim \\mathcal{N}(0, I_d)\\\\\n",
    "\\xi \\sim \\mathcal{N}(0, \\sigma^2) \\\\\n",
    "Y = \\langle X, t^* \\rangle + \\xi\n",
    "\\end{align}"
   ]
  },
  {
   "cell_type": "code",
   "execution_count": 2,
   "metadata": {
    "collapsed": true
   },
   "outputs": [],
   "source": [
    "# Example \n",
    "n_samples, d = 1000, 2\n",
    "noise_sd = .5\n",
    "\n",
    "# generate dataset\n",
    "X, y = make_gaussian_regression(n_samples, d, noise_sd)\n",
    "\n",
    "# split dataset in 3 datasets (train, aggregation, test)\n",
    "X_train, X_agg, X_test, y_train, y_agg, y_test = train_agg_test_split(X, y, 0.4, 0.3)\n",
    "\n",
    "# example of corruption\n",
    "corruption_params = {'type':'constant', 'value':100}\n",
    "X_agg, y_agg = corrupt_dataset(X_agg, y_agg, prop_outliers=0.3, corruption_params=corruption_params)"
   ]
  },
  {
   "cell_type": "markdown",
   "metadata": {},
   "source": [
    "## Optimal rate of aggregation for Q-aggregation "
   ]
  },
  {
   "cell_type": "markdown",
   "metadata": {},
   "source": [
    "Lecué & Rigollet showed that the Q-aggregation procedure is optimal in the minimax sense for the model selection problem in the $L_\\infty$ case when the error is measured w.r.t. the squared loss :\n",
    "\n",
    "\\begin{align}\n",
    "R(f_\\theta) \\leq \\min_{j=1, \\dots, M}R(f_j) + C \\frac{\\log(M)}{n}\n",
    "\\end{align}\n",
    "\n",
    "with $C$ an absolute constant. The inequality holds in expectation and with high-probability.\n",
    "\n",
    "We want to check if the rate of convergence of the Q-aggregation procedure is indeed $\\frac{1}{n}$ for the Gaussian regression case.\n",
    "\n",
    "In order to do this we want to plot the regret $R(f_\\theta) - \\min_{j=1, \\dots, M}R(f_j)$ as a fonction of the number of samples $n$.\n",
    "\n",
    "Since the dependence we are looking for is exponential we want to change to log-scale to get a better feeling of what is happening : we will plot $\\log(R(f_\\theta))$ against $\\log(n)$.\n",
    "\n",
    "See the report fort more details about the way we proceeded"
   ]
  },
  {
   "cell_type": "markdown",
   "metadata": {},
   "source": [
    "### i.i.d. case"
   ]
  },
  {
   "cell_type": "code",
   "execution_count": 3,
   "metadata": {
    "scrolled": false
   },
   "outputs": [
    {
     "ename": "KeyboardInterrupt",
     "evalue": "",
     "output_type": "error",
     "traceback": [
      "\u001b[0;31m---------------------------------------------------------------------------\u001b[0m",
      "\u001b[0;31mKeyboardInterrupt\u001b[0m                         Traceback (most recent call last)",
      "\u001b[0;32m<ipython-input-3-1f744b9a3745>\u001b[0m in \u001b[0;36m<module>\u001b[0;34m()\u001b[0m\n\u001b[1;32m     20\u001b[0m \u001b[0mX_test\u001b[0m \u001b[0;34m=\u001b[0m \u001b[0mnp\u001b[0m\u001b[0;34m.\u001b[0m\u001b[0mrandom\u001b[0m\u001b[0;34m.\u001b[0m\u001b[0mmultivariate_normal\u001b[0m\u001b[0;34m(\u001b[0m\u001b[0mnp\u001b[0m\u001b[0;34m.\u001b[0m\u001b[0mzeros\u001b[0m\u001b[0;34m(\u001b[0m\u001b[0md\u001b[0m\u001b[0;34m)\u001b[0m\u001b[0;34m,\u001b[0m \u001b[0mnp\u001b[0m\u001b[0;34m.\u001b[0m\u001b[0meye\u001b[0m\u001b[0;34m(\u001b[0m\u001b[0md\u001b[0m\u001b[0;34m)\u001b[0m\u001b[0;34m,\u001b[0m \u001b[0mn_test\u001b[0m\u001b[0;34m)\u001b[0m\u001b[0;34m\u001b[0m\u001b[0m\n\u001b[1;32m     21\u001b[0m y_test = np.dot(X_test, t) + np.random.multivariate_normal(np.zeros(n_test), \n\u001b[0;32m---> 22\u001b[0;31m                                                            noise_sd**2*np.eye(n_test))\n\u001b[0m\u001b[1;32m     23\u001b[0m \u001b[0;34m\u001b[0m\u001b[0m\n\u001b[1;32m     24\u001b[0m \u001b[0;31m# Train predictors\u001b[0m\u001b[0;34m\u001b[0m\u001b[0;34m\u001b[0m\u001b[0m\n",
      "\u001b[0;32mmtrand.pyx\u001b[0m in \u001b[0;36mmtrand.RandomState.multivariate_normal\u001b[0;34m()\u001b[0m\n",
      "\u001b[0;32m/Users/Schreuder/anaconda/lib/python3.5/site-packages/scipy/linalg/decomp_svd.py\u001b[0m in \u001b[0;36msvd\u001b[0;34m(a, full_matrices, compute_uv, overwrite_a, check_finite, lapack_driver)\u001b[0m\n\u001b[1;32m    127\u001b[0m     \u001b[0;31m# perform decomposition\u001b[0m\u001b[0;34m\u001b[0m\u001b[0;34m\u001b[0m\u001b[0m\n\u001b[1;32m    128\u001b[0m     u, s, v, info = gesXd(a1, compute_uv=compute_uv, lwork=lwork,\n\u001b[0;32m--> 129\u001b[0;31m                           full_matrices=full_matrices, overwrite_a=overwrite_a)\n\u001b[0m\u001b[1;32m    130\u001b[0m \u001b[0;34m\u001b[0m\u001b[0m\n\u001b[1;32m    131\u001b[0m     \u001b[0;32mif\u001b[0m \u001b[0minfo\u001b[0m \u001b[0;34m>\u001b[0m \u001b[0;36m0\u001b[0m\u001b[0;34m:\u001b[0m\u001b[0;34m\u001b[0m\u001b[0m\n",
      "\u001b[0;31mKeyboardInterrupt\u001b[0m: "
     ]
    }
   ],
   "source": [
    "# Expected risk estimation\n",
    "d = 2\n",
    "noise_sd = 1\n",
    "\n",
    "n_Q_iterations = 5\n",
    "n_train, n_test, n_datasets = 500, 3000, 500\n",
    "logspace_num = 10\n",
    "\n",
    "n_agg_array = np.logspace(1, 3, logspace_num, dtype=int)\n",
    "\n",
    "# Generate random regression parameter\n",
    "t = np.random.poisson(lam=0.5, size=d)\n",
    "\n",
    "# Generate train dataset\n",
    "X_train = np.random.multivariate_normal(np.zeros(d), np.eye(d), n_train)\n",
    "y_train = np.dot(X_train, t) + np.random.multivariate_normal(np.zeros(n_train), \n",
    "                                                             noise_sd**2*np.eye(n_train))\n",
    "\n",
    "# Generate test dataset\n",
    "X_test = np.random.multivariate_normal(np.zeros(d), np.eye(d), n_test)\n",
    "y_test = np.dot(X_test, t) + np.random.multivariate_normal(np.zeros(n_test), \n",
    "                                                           noise_sd**2*np.eye(n_test))\n",
    "\n",
    "# Train predictors\n",
    "predictors = make_function_class_regression()\n",
    "q = Q_aggregation(predictors)\n",
    "q.train_predictors(X_train, y_train)\n",
    "\n",
    "# store empirical risks\n",
    "r = np.zeros(n_datasets)\n",
    "R = np.zeros(logspace_num)\n",
    "\n",
    "compt = 0\n",
    "\n",
    "for n_agg in tqdm(n_agg_array):\n",
    "    for n in range(n_datasets):\n",
    "        # Generate a dataset of n_agg observations\n",
    "        X_agg = np.random.multivariate_normal(np.zeros(d), np.eye(d), n_agg)\n",
    "        y_agg = np.dot(X_agg, t) + np.random.multivariate_normal(np.zeros(n_agg), \n",
    "                                                                 noise_sd**2*np.eye(n_agg))\n",
    "                \n",
    "        # Compute the Q-aggregation weight vector\n",
    "        theta = q.GMA_1(X_agg, y_agg, n_Q_iterations)\n",
    "            \n",
    "        # Compute the empirical risk\n",
    "        r[n] = np.average((y_test - q.predict(X_test))**2)\n",
    "    \n",
    "    # store estimated risk\n",
    "    R[compt] = np.average(r)\n",
    "    compt +=1"
   ]
  },
  {
   "cell_type": "code",
   "execution_count": null,
   "metadata": {
    "collapsed": true
   },
   "outputs": [],
   "source": [
    "# find minimum risk among dictionary\n",
    "min_risk = np.min([np.average((y_test - predictor.predict(X_test))**2) \n",
    "                   for predictor in q.predictors ])\n",
    "\n",
    "# compute excess risk\n",
    "excess_risk = R - min_risk\n",
    "excess_risk[excess_risk<=0] = 1e-9\n",
    "\n",
    "from sklearn import linear_model\n",
    "lr = linear_model.LinearRegression(fit_intercept=True)\n",
    "\n",
    "lr.fit(X=np.log(n_agg_array).reshape(-1, 1), y=np.log(excess_risk))\n",
    "\n",
    "plt.loglog(n_agg_array, excess_risk)\n",
    "plt.xlabel('Number of samples for aggregation')\n",
    "plt.ylabel('Estimated risk')\n",
    "\n",
    "plt.loglog(n_agg_array, np.exp(lr.predict(np.log(n_agg_array).reshape(-1, 1))), alpha=0.3)\n",
    "\n",
    "plt.legend(['Excess risk', 'Linear approximation (Slope = {:.2f})'.format(lr.coef_[0])])\n",
    "\n",
    "plt.savefig('Estimated_risk_5.pdf', dpi=400)"
   ]
  },
  {
   "cell_type": "markdown",
   "metadata": {},
   "source": [
    "### Distribution of the weights"
   ]
  },
  {
   "cell_type": "code",
   "execution_count": 207,
   "metadata": {},
   "outputs": [
    {
     "name": "stderr",
     "output_type": "stream",
     "text": [
      "100%|██████████| 50/50 [01:49<00:00,  2.19s/it]\n"
     ]
    }
   ],
   "source": [
    "n_runs = 50\n",
    "\n",
    "# Expected risk estimation\n",
    "d = 200\n",
    "noise_sd = 1\n",
    "\n",
    "n_Q_iterations = 5\n",
    "n_train, n_agg = 500, 500\n",
    "\n",
    "# Generate random regression parameter\n",
    "t = np.random.poisson(lam=0.1, size=d)\n",
    "\n",
    "# Generate train dataset\n",
    "X_train = np.random.multivariate_normal(np.zeros(d), np.eye(d), n_train)\n",
    "y_train = np.dot(X_train, t) + np.random.multivariate_normal(np.zeros(n_train), noise_sd**2*np.eye(n_train))\n",
    "\n",
    "# Train predictors\n",
    "predictors = make_function_class_regression()\n",
    "q = Q_aggregation(predictors)\n",
    "q.train_predictors(X_train, y_train)\n",
    "\n",
    "weight_distribution = np.zeros((len(predictors), n_runs))\n",
    "\n",
    "for n in tqdm(range(n_runs)):\n",
    "\n",
    "    # Generate a dataset of n_agg observations\n",
    "    X_agg = np.random.multivariate_normal(np.zeros(d), np.eye(d), n_agg)\n",
    "    y_agg = np.dot(X_agg, t) + np.random.multivariate_normal(np.zeros(n_agg), noise_sd**2*np.eye(n_agg))\n",
    "        \n",
    "    theta = q.GMA_1(X_agg, y_agg, n_Q_iterations)\n",
    "    weight_distribution[:, n] = theta"
   ]
  },
  {
   "cell_type": "code",
   "execution_count": 208,
   "metadata": {},
   "outputs": [
    {
     "data": {
      "image/png": "[encoded data removed]",
      "text/plain": [
       "<matplotlib.figure.Figure at 0x11bc05160>"
      ]
     },
     "metadata": {},
     "output_type": "display_data"
    }
   ],
   "source": [
    "plt.imshow(weight_distribution, cmap='Greens')\n",
    "plt.grid(False)\n",
    "plt.yticks([0, 10, 11, 12], ['Ridge', 'Linear regression', 'ElasticNet', 'Lasso'], fontsize = 8)\n",
    "plt.tight_layout()\n",
    "#plt.savefig('d={}_sparser.pdf'.format(str(d)), dpi=400)"
   ]
  },
  {
   "cell_type": "markdown",
   "metadata": {},
   "source": [
    "### Corrupted data"
   ]
  },
  {
   "cell_type": "code",
   "execution_count": 220,
   "metadata": {},
   "outputs": [
    {
     "name": "stderr",
     "output_type": "stream",
     "text": [
      "100%|██████████| 10/10 [08:01<00:00, 48.18s/it]\n"
     ]
    }
   ],
   "source": [
    "# Expected risk estimation\n",
    "d = 2\n",
    "noise_sd = 1\n",
    "\n",
    "n_Q_iterations = 5\n",
    "n_train, n_test, n_datasets = 500, 2000, 50\n",
    "logspace_num = 10\n",
    "\n",
    "n_agg_array = np.logspace(1, 3, logspace_num, dtype=int)\n",
    "\n",
    "# Generate random regression parameter\n",
    "t = np.random.poisson(lam=0.5, size=d)\n",
    "\n",
    "# Generate train dataset\n",
    "X_train = np.random.multivariate_normal(np.zeros(d), np.eye(d), n_train)\n",
    "y_train = np.dot(X_train, t) + np.random.multivariate_normal(np.zeros(n_train), \n",
    "                                                             noise_sd**2*np.eye(n_train))\n",
    "\n",
    "# Generate test dataset\n",
    "X_test = np.random.multivariate_normal(np.zeros(d), np.eye(d), n_test)\n",
    "y_test = np.dot(X_test, t) + np.random.multivariate_normal(np.zeros(n_test), \n",
    "                                                           noise_sd**2*np.eye(n_test))\n",
    "\n",
    "# Train predictors\n",
    "predictors = make_function_class_regression()\n",
    "q = Q_aggregation(predictors)\n",
    "q.train_predictors(X_train, y_train)\n",
    "\n",
    "# store empirical risks\n",
    "r = np.zeros(n_datasets)\n",
    "R = np.zeros(logspace_num)\n",
    "\n",
    "compt = 0\n",
    "\n",
    "# Outlier parameters\n",
    "prop_outliers = 0.05\n",
    "corruption_params = {'type':'constant', 'value': 100}\n",
    "\n",
    "\n",
    "for n_agg in tqdm(n_agg_array):\n",
    "    for n in range(n_datasets):\n",
    "        # Generate a dataset of n_agg observations\n",
    "        X_agg = np.random.multivariate_normal(np.zeros(d), np.eye(d), n_agg)\n",
    "        y_agg = np.dot(X_agg, t) + np.random.multivariate_normal(np.zeros(n_agg), \n",
    "                                                                 noise_sd**2*np.eye(n_agg))\n",
    "                \n",
    "        X_agg, y_agg = corrupt_dataset(X_agg, y_agg, prop_outliers, corruption_params)\n",
    "        # Compute the Q-aggregation weight vector\n",
    "        theta = q.GMA_1(X_agg, y_agg, n_Q_iterations)\n",
    "            \n",
    "        # Compute the empirical risk\n",
    "        r[n] = np.average((y_test - q.predict(X_test))**2)\n",
    "    \n",
    "    # store estimated risk\n",
    "    R[compt] = np.average(r)\n",
    "    compt +=1"
   ]
  },
  {
   "cell_type": "code",
   "execution_count": 222,
   "metadata": {},
   "outputs": [
    {
     "data": {
      "image/png": "[encoded data removed]",
      "text/plain": [
       "<matplotlib.figure.Figure at 0x11d7af550>"
      ]
     },
     "metadata": {},
     "output_type": "display_data"
    }
   ],
   "source": [
    "# find minimum risk among dictionary\n",
    "min_risk = np.min([np.average((y_test - predictor.predict(X_test))**2) \n",
    "                   for predictor in q.predictors ])\n",
    "\n",
    "# compute excess risk\n",
    "excess_risk = R - min_risk\n",
    "excess_risk[excess_risk<=0] = 1e-9\n",
    "\n",
    "from sklearn import linear_model\n",
    "lr = linear_model.LinearRegression(fit_intercept=True)\n",
    "\n",
    "lr.fit(X=np.log(n_agg_array).reshape(-1, 1), y=np.log(excess_risk))\n",
    "\n",
    "plt.loglog(n_agg_array, excess_risk)\n",
    "plt.xlabel('Number of samples for aggregation')\n",
    "plt.ylabel('Estimated risk')\n",
    "\n",
    "#plt.loglog(n_agg_array, np.exp(lr.predict(np.log(n_agg_array).reshape(-1, 1))), alpha=0.3)\n",
    "\n",
    "plt.legend(['Excess risk', 'Linear approximation (Slope = {:.2f})'.format(lr.coef_[0])])\n",
    "\n",
    "plt.savefig('Estimated_risk_outliers.pdf', dpi=400)"
   ]
  },
  {
   "cell_type": "markdown",
   "metadata": {},
   "source": [
    "Introducing outliers, even a proportion as small as $5\\%$ seems to completely break down the statistical properties of the Q-aggregation procedure. It is time to try the MOM version of Q-aggregation !"
   ]
  },
  {
   "cell_type": "markdown",
   "metadata": {},
   "source": [
    "### MOM-version"
   ]
  },
  {
   "cell_type": "code",
   "execution_count": 10,
   "metadata": {
    "collapsed": true
   },
   "outputs": [],
   "source": [
    "# -0.7\n",
    "#n_blocks = np.array([5, 4, 5, 8, 8, 12, 15, 20, 30, 50])\n",
    "\n",
    "# - 0.5\n",
    "#n_blocks = np.array([5, 4, 5, 8, 8, 12, 15, 20, 50, 60])\n",
    "\n",
    "# - 0.7\n",
    "#n_blocks = np.array([5, 4, 5, 8, 8, 12, 15, 20, 20, 30])\n",
    "\n",
    "# - 0.78\n",
    "#n_blocks = np.array([5, 4, 5, 8, 8, 12, 20, 20, 20, 30])\n",
    "\n",
    "# - 0.93\n",
    "#n_blocks = np.array([5, 4, 5, 8, 20, 20, 20, 20, 20, 30])\n",
    "\n",
    "# -0.7\n",
    "#n_blocks = np.array([5, 4, 5, 8, 15, 20, 20, 20, 20, 30])\n",
    "\n",
    "\n",
    "# Corrupted\n",
    "n_blocks = np.array([5, 8, 8, 8, 15, 25, 30, 50, 60, 100])"
   ]
  },
  {
   "cell_type": "code",
   "execution_count": 11,
   "metadata": {},
   "outputs": [
    {
     "name": "stderr",
     "output_type": "stream",
     "text": [
      "100%|██████████| 10/10 [42:01<00:00, 252.17s/it]\n"
     ]
    }
   ],
   "source": [
    "# Expected risk estimation\n",
    "d = 2\n",
    "noise_sd = 1\n",
    "\n",
    "n_Q_iterations = 5\n",
    "n_train, n_test, n_datasets = 500, 2000, 500\n",
    "logspace_num = 10\n",
    "\n",
    "n_agg_array = np.logspace(1, 3, logspace_num, dtype=int)\n",
    "\n",
    "# Generate random regression parameter\n",
    "t = np.random.poisson(lam=0.5, size=d)\n",
    "\n",
    "# Generate train dataset\n",
    "X_train = np.random.multivariate_normal(np.zeros(d), np.eye(d), n_train)\n",
    "y_train = np.dot(X_train, t) + np.random.multivariate_normal(np.zeros(n_train), noise_sd**2*np.eye(n_train))\n",
    "\n",
    "# Generate test dataset\n",
    "X_test = np.random.multivariate_normal(np.zeros(d), np.eye(d), n_test)\n",
    "y_test = np.dot(X_test, t) + np.random.multivariate_normal(np.zeros(n_test), noise_sd**2*np.eye(n_test))\n",
    "\n",
    "# Train predictors\n",
    "predictors = make_function_class_regression()\n",
    "q = Q_aggregation(predictors)\n",
    "q.train_predictors(X_train, y_train)\n",
    "\n",
    "# store empirical risks\n",
    "R = np.zeros(logspace_num)\n",
    "\n",
    "compt = 0\n",
    "\n",
    "best_n_blocks = np.zeros(logspace_num)\n",
    "\n",
    "# Outlier parameters\n",
    "prop_outliers = 0.05\n",
    "corruption_params = {'type':'constant', 'value':100}\n",
    "\n",
    "for n_agg in tqdm(n_agg_array):\n",
    "    r = 10*np.ones(n_datasets)\n",
    "    for n in range(n_datasets):\n",
    "        # Generate a dataset of n_agg observations\n",
    "        X_agg = np.random.multivariate_normal(np.zeros(d), np.eye(d), n_agg)\n",
    "        y_agg = np.dot(X_agg, t) + np.random.multivariate_normal(np.zeros(n_agg), noise_sd**2*np.eye(n_agg))\n",
    "        \n",
    "        X_agg, y_agg = corrupt_dataset(X_agg, y_agg, prop_outliers, corruption_params)\n",
    "        \n",
    "        #for n_blocks in np.linspace(2, n_agg/2, 20, dtype=int):\n",
    "        #    # Compute the Q-aggregation weight vector\n",
    "        #    theta = q.GMA_1_MOM(X_agg, y_agg, n_Q_iterations, n_blocks)\n",
    "        #    \n",
    "        #    est_risk = np.average((y_test - q.predict(X_test))**2)\n",
    "        #    \n",
    "        #    if est_risk < r[n]:\n",
    "        #        # Compute the empirical risk\n",
    "        #        r[n] = est_risk\n",
    "        \n",
    "        theta = q.GMA_1_MOM(X_agg, y_agg, n_Q_iterations, n_blocks[compt])\n",
    "        #q.GMA_1(X_agg, y_agg, n_Q_iterations)\n",
    "        r[n] = np.average((y_test - q.predict(X_test))**2)\n",
    "        \n",
    "    # store estimated risk\n",
    "    R[compt] = np.average(r)\n",
    "    compt +=1"
   ]
  },
  {
   "cell_type": "code",
   "execution_count": 12,
   "metadata": {},
   "outputs": [
    {
     "data": {
      "text/plain": [
       "<matplotlib.legend.Legend at 0x10cc41c50>"
      ]
     },
     "execution_count": 12,
     "metadata": {},
     "output_type": "execute_result"
    },
    {
     "data": {
      "image/png": "[encoded data removed]",
      "text/plain": [
       "<matplotlib.figure.Figure at 0x10cc27630>"
      ]
     },
     "metadata": {},
     "output_type": "display_data"
    }
   ],
   "source": [
    "# find minimum risk among dictionary\n",
    "min_risk = np.min([np.average((y_test - predictor.predict(X_test))**2) \n",
    "                   for predictor in q.predictors ])\n",
    "\n",
    "# compute excess risk\n",
    "excess_risk = R - min_risk\n",
    "excess_risk[excess_risk<=0] = 1e-16\n",
    "\n",
    "from sklearn import linear_model\n",
    "lr = linear_model.LinearRegression(fit_intercept=True)\n",
    "\n",
    "lr.fit(X=np.log(n_agg_array).reshape(-1, 1), y=np.log(excess_risk))\n",
    "\n",
    "plt.loglog(n_agg_array, excess_risk)\n",
    "plt.xlabel('Number of samples for aggregation')\n",
    "plt.ylabel('Estimated risk')\n",
    "\n",
    "plt.loglog(n_agg_array, np.exp(lr.predict(np.log(n_agg_array).reshape(-1, 1))), alpha=0.3)\n",
    "\n",
    "plt.legend(['Excess risk', 'Linear approximation (Slope = {:.2f})'.format(lr.coef_[0])])\n",
    "\n",
    "#plt.savefig('Estimated_risk_MOM_corrupted.pdf', dpi=400)"
   ]
  },
  {
   "cell_type": "markdown",
   "metadata": {},
   "source": [
    "## 1st type of corruption : constant value target\n",
    "\n",
    "A determined proportion of the samples'target are set to the same value.\n",
    "\n",
    "\n",
    "- How does the distribution of the regret (and the mean regret) behave as a function of the proportion of outliers, the outlier target value behind fixed ? Does varying the number of blocks for the MOM method change anything ?\n",
    "- How does the mean regret behave as a function of the outlier target value the proportion of outliers being fixed for GMA-1 and MOM-GMA-1 ?"
   ]
  },
  {
   "cell_type": "code",
   "execution_count": null,
   "metadata": {
    "collapsed": true
   },
   "outputs": [],
   "source": [
    "corruption_params = {'type':'constant', 'value':1e9}\n",
    "agg_params={'method':'GMA_1', 'nb_iterations':5}\n",
    "GMA_1_regret = test_gaussian_regression_outliers(n_samples=1000, d=20, n_replications=50, \n",
    "                                        prop_outliers=.3, corruption_params=corruption_params,\n",
    "                                                 agg_params=agg_params, noise_sd=noise_sd)"
   ]
  },
  {
   "cell_type": "code",
   "execution_count": 32,
   "metadata": {
    "scrolled": true
   },
   "outputs": [
    {
     "name": "stderr",
     "output_type": "stream",
     "text": [
      "\n",
      "  0%|          | 0/10 [00:00<?, ?it/s]\u001b[A\n",
      " 10%|█         | 1/10 [00:02<00:20,  2.32s/it]\u001b[A\n",
      " 20%|██        | 2/10 [00:04<00:17,  2.23s/it]\u001b[A\n",
      " 30%|███       | 3/10 [00:06<00:15,  2.20s/it]\u001b[A\n",
      "Exception in thread Thread-10:\n",
      "Traceback (most recent call last):\n",
      "  File \"/Users/Schreuder/anaconda/lib/python3.5/threading.py\", line 914, in _bootstrap_inner\n",
      "    self.run()\n",
      "  File \"/Users/Schreuder/anaconda/lib/python3.5/site-packages/tqdm/_tqdm.py\", line 144, in run\n",
      "    for instance in self.tqdm_cls._instances:\n",
      "  File \"/Users/Schreuder/anaconda/lib/python3.5/_weakrefset.py\", line 60, in __iter__\n",
      "    for itemref in self.data:\n",
      "RuntimeError: Set changed size during iteration\n",
      "\n",
      "100%|██████████| 10/10 [00:21<00:00,  2.17s/it]\n"
     ]
    }
   ],
   "source": [
    "agg_params={'method':'GMA_1_MOM', 'nb_iterations':10, 'nb_blocks':30}\n",
    "GMA_1_MOM_regret = test_gaussian_regression_outliers(n_samples=1000, d=20, n_replications=10, \n",
    "                                      prop_outliers=.3, corruption_params=corruption_params, \n",
    "                                                     agg_params=agg_params, noise_sd=noise_sd)"
   ]
  },
  {
   "cell_type": "code",
   "execution_count": 62,
   "metadata": {
    "scrolled": false
   },
   "outputs": [
    {
     "name": "stderr",
     "output_type": "stream",
     "text": [
      "\n",
      "  0%|          | 0/50 [00:00<?, ?it/s]\u001b[A\n",
      "Exception in thread Thread-31:\n",
      "Traceback (most recent call last):\n",
      "  File \"/Users/Schreuder/anaconda/lib/python3.5/threading.py\", line 914, in _bootstrap_inner\n",
      "    self.run()\n",
      "  File \"/Users/Schreuder/anaconda/lib/python3.5/site-packages/tqdm/_tqdm.py\", line 144, in run\n",
      "    for instance in self.tqdm_cls._instances:\n",
      "  File \"/Users/Schreuder/anaconda/lib/python3.5/_weakrefset.py\", line 60, in __iter__\n",
      "    for itemref in self.data:\n",
      "RuntimeError: Set changed size during iteration\n",
      "\n",
      "100%|██████████| 50/50 [02:11<00:00,  2.63s/it]\n",
      "100%|██████████| 50/50 [01:43<00:00,  2.06s/it]\n",
      "100%|██████████| 50/50 [01:19<00:00,  1.59s/it]\n",
      "100%|██████████| 50/50 [01:19<00:00,  1.59s/it]\n",
      "100%|██████████| 50/50 [01:40<00:00,  2.01s/it]\n",
      "100%|██████████| 50/50 [01:34<00:00,  1.88s/it]\n",
      "100%|██████████| 50/50 [01:28<00:00,  1.77s/it]\n",
      "100%|██████████| 50/50 [01:33<00:00,  1.86s/it]\n"
     ]
    }
   ],
   "source": [
    "corrupted_target_values = np.logspace(0, 7, num=8)\n",
    "mean_regret_constant_target = []\n",
    "for corrupted_target_value in corrupted_target_values:\n",
    "    corruption_params = {'type':'constant', 'value':corrupted_target_value}\n",
    "    agg_params={'method':'GMA_1', 'nb_iterations':5}\n",
    "    GMA_1_regret = test_gaussian_regression_outliers(n_samples=1000, d=10, n_replications=50, \n",
    "                                            prop_outliers=.3, corruption_params=corruption_params,\n",
    "                                                     agg_params=agg_params, noise_sd=noise_sd)\n",
    "    mean_regret_constant_target.append(np.mean(GMA_1_regret))"
   ]
  },
  {
   "cell_type": "code",
   "execution_count": 64,
   "metadata": {},
   "outputs": [
    {
     "name": "stderr",
     "output_type": "stream",
     "text": [
      "\n",
      "  0%|          | 0/50 [00:00<?, ?it/s]\u001b[A\n",
      "  2%|▏         | 1/50 [00:01<01:01,  1.26s/it]\u001b[A\n",
      "  4%|▍         | 2/50 [00:02<01:02,  1.31s/it]\u001b[A\n",
      "  6%|▌         | 3/50 [00:03<01:00,  1.28s/it]\u001b[A\n",
      "  8%|▊         | 4/50 [00:05<00:57,  1.26s/it]\u001b[A\n",
      "Exception in thread Thread-42:\n",
      "Traceback (most recent call last):\n",
      "  File \"/Users/Schreuder/anaconda/lib/python3.5/threading.py\", line 914, in _bootstrap_inner\n",
      "    self.run()\n",
      "  File \"/Users/Schreuder/anaconda/lib/python3.5/site-packages/tqdm/_tqdm.py\", line 144, in run\n",
      "    for instance in self.tqdm_cls._instances:\n",
      "  File \"/Users/Schreuder/anaconda/lib/python3.5/_weakrefset.py\", line 60, in __iter__\n",
      "    for itemref in self.data:\n",
      "RuntimeError: Set changed size during iteration\n",
      "\n",
      "100%|██████████| 50/50 [00:58<00:00,  1.17s/it]\n",
      "100%|██████████| 50/50 [00:57<00:00,  1.16s/it]\n",
      "100%|██████████| 50/50 [00:57<00:00,  1.15s/it]\n",
      "100%|██████████| 50/50 [00:57<00:00,  1.16s/it]\n",
      "100%|██████████| 50/50 [00:59<00:00,  1.19s/it]\n",
      "100%|██████████| 50/50 [00:57<00:00,  1.14s/it]\n",
      "100%|██████████| 50/50 [00:56<00:00,  1.14s/it]\n",
      "100%|██████████| 50/50 [00:57<00:00,  1.15s/it]\n"
     ]
    }
   ],
   "source": [
    "mean_regret_constant_target_MOM = []\n",
    "for corrupted_target_value in corrupted_target_values:\n",
    "    corruption_params = {'type':'constant', 'value':corrupted_target_value}\n",
    "    agg_params={'method':'GMA_1_MOM', 'nb_iterations':5, 'nb_blocks':50}\n",
    "    GMA_1_MOM_regret = test_gaussian_regression_outliers(n_samples=1000, d=10, n_replications=50, \n",
    "                                      prop_outliers=.3, corruption_params=corruption_params, \n",
    "                                                     agg_params=agg_params, noise_sd=noise_sd)\n",
    "    mean_regret_constant_target_MOM.append(np.mean(GMA_1_MOM_regret))"
   ]
  },
  {
   "cell_type": "code",
   "execution_count": 65,
   "metadata": {},
   "outputs": [
    {
     "data": {
      "text/plain": [
       "<matplotlib.text.Text at 0x1146b2710>"
      ]
     },
     "execution_count": 65,
     "metadata": {},
     "output_type": "execute_result"
    },
    {
     "data": {
      "image/png": "[encoded data removed]",
      "text/plain": [
       "<matplotlib.figure.Figure at 0x1147419b0>"
      ]
     },
     "metadata": {},
     "output_type": "display_data"
    }
   ],
   "source": [
    "plt.semilogx(corrupted_target_values, mean_regret_constant_target)\n",
    "plt.semilogx(corrupted_target_values, mean_regret_constant_target_MOM)\n",
    "plt.legend(['GMA-1','GMA-1-MOM'])\n",
    "plt.xlabel('Value of corrupted target')\n",
    "plt.ylabel('Average regret (30 replications)')"
   ]
  },
  {
   "cell_type": "code",
   "execution_count": 33,
   "metadata": {
    "scrolled": true
   },
   "outputs": [
    {
     "data": {
      "image/png": "[encoded data removed]",
      "text/plain": [
       "<matplotlib.figure.Figure at 0x11339acc0>"
      ]
     },
     "metadata": {},
     "output_type": "display_data"
    }
   ],
   "source": [
    "plt.hist(GMA_1_regret, color='blue', bins=20)\n",
    "plt.hist(GMA_1_MOM_regret, color='red', bins=20, alpha=.5)\n",
    "plt.legend(['GMA-1 ({})'.format(np.mean(np.array(GMA_1_regret))), 'MOM-GMA-1({})'.format(np.mean(np.array(GMA_1_MOM_regret)))])\n",
    "plt.title('Histogram of regrets for Gaussian regression (100 replications, 30% of outliers, K=300)')\n",
    "plt.savefig('rep_100_prop_30_K_300.jpg', bbox_inches='tight')"
   ]
  },
  {
   "cell_type": "markdown",
   "metadata": {},
   "source": [
    "# Plots"
   ]
  },
  {
   "cell_type": "code",
   "execution_count": 13,
   "metadata": {
    "scrolled": true
   },
   "outputs": [
    {
     "name": "stderr",
     "output_type": "stream",
     "text": [
      "100%|██████████| 100/100 [04:15<00:00,  2.55s/it]\n",
      "100%|██████████| 100/100 [04:34<00:00,  2.74s/it]\n",
      "100%|██████████| 100/100 [04:55<00:00,  2.95s/it]\n",
      "100%|██████████| 100/100 [05:08<00:00,  3.08s/it]\n",
      "100%|██████████| 100/100 [05:50<00:00,  3.50s/it]\n"
     ]
    }
   ],
   "source": [
    "outliers_props = np.linspace(0, 1, 5)\n",
    "n_replications = 100\n",
    "\n",
    "GMA_1_regrets = np.zeros((n_replications, len(outliers_props)))\n",
    "for j, prop_outliers in enumerate(outliers_props):\n",
    "    GMA_1_regrets[:,j] = test_gaussian_regression_outliers(n_samples=1000, d=20, n_replications=n_replications, \n",
    "                                      prop_outliers=prop_outliers, agg_method='GMA_1', noise_sd=noise_sd)"
   ]
  },
  {
   "cell_type": "code",
   "execution_count": 56,
   "metadata": {
    "scrolled": false
   },
   "outputs": [
    {
     "name": "stderr",
     "output_type": "stream",
     "text": [
      "100%|██████████| 100/100 [02:18<00:00,  1.38s/it]\n",
      "100%|██████████| 100/100 [01:58<00:00,  1.18s/it]\n",
      "100%|██████████| 100/100 [01:58<00:00,  1.18s/it]\n",
      "100%|██████████| 100/100 [01:57<00:00,  1.18s/it]\n",
      "100%|██████████| 100/100 [02:10<00:00,  1.31s/it]\n"
     ]
    }
   ],
   "source": [
    "outliers_props = np.linspace(0, 1, 5)\n",
    "n_replications = 100\n",
    "\n",
    "GMA_1_MOM_regrets = np.zeros((n_replications, len(outliers_props)))\n",
    "for j, prop_outliers in enumerate(outliers_props):\n",
    "    GMA_1_MOM_regrets[:,j] = test_gaussian_regression_outliers(n_samples=1000, d=20, n_replications=n_replications, \n",
    "                                      prop_outliers=prop_outliers, agg_method='GMA_1_MOM', noise_sd=noise_sd)"
   ]
  },
  {
   "cell_type": "code",
   "execution_count": 57,
   "metadata": {},
   "outputs": [
    {
     "data": {
      "text/plain": [
       "array([0.  , 0.25, 0.5 , 0.75, 1.  ])"
      ]
     },
     "execution_count": 57,
     "metadata": {},
     "output_type": "execute_result"
    }
   ],
   "source": [
    "outliers_props"
   ]
  },
  {
   "cell_type": "code",
   "execution_count": 61,
   "metadata": {},
   "outputs": [
    {
     "data": {
      "text/plain": [
       "(array([6., 3., 6., 8., 7., 6., 8., 6., 2., 6., 5., 3., 3., 4., 3., 4., 1.,\n",
       "        3., 1., 3., 1., 0., 1., 0., 1., 0., 2., 0., 1., 0., 1., 0., 0., 0.,\n",
       "        1., 0., 0., 1., 1., 1., 0., 0., 0., 0., 0., 0., 0., 0., 0., 1.]),\n",
       " array([0.        , 0.0875558 , 0.17511159, 0.26266739, 0.35022318,\n",
       "        0.43777898, 0.52533478, 0.61289057, 0.70044637, 0.78800216,\n",
       "        0.87555796, 0.96311375, 1.05066955, 1.13822535, 1.22578114,\n",
       "        1.31333694, 1.40089273, 1.48844853, 1.57600433, 1.66356012,\n",
       "        1.75111592, 1.83867171, 1.92622751, 2.01378331, 2.1013391 ,\n",
       "        2.1888949 , 2.27645069, 2.36400649, 2.45156229, 2.53911808,\n",
       "        2.62667388, 2.71422967, 2.80178547, 2.88934126, 2.97689706,\n",
       "        3.06445286, 3.15200865, 3.23956445, 3.32712024, 3.41467604,\n",
       "        3.50223184, 3.58978763, 3.67734343, 3.76489922, 3.85245502,\n",
       "        3.94001082, 4.02756661, 4.11512241, 4.2026782 , 4.290234  ,\n",
       "        4.37778979]),\n",
       " <a list of 50 Patch objects>)"
      ]
     },
     "execution_count": 61,
     "metadata": {},
     "output_type": "execute_result"
    },
    {
     "data": {
      "image/png": "[encoded data removed]",
      "text/plain": [
       "<matplotlib.figure.Figure at 0x116651f60>"
      ]
     },
     "metadata": {},
     "output_type": "display_data"
    }
   ],
   "source": [
    "plt.hist(GMA_1_regrets[:,1], bins=50)\n",
    "plt.hist(GMA_1_MOM_regrets[:,1], color='green', bins=50)"
   ]
  },
  {
   "cell_type": "code",
   "execution_count": 55,
   "metadata": {},
   "outputs": [
    {
     "data": {
      "image/png": "[encoded data removed]",
      "text/plain": [
       "<matplotlib.figure.Figure at 0x1142dc828>"
      ]
     },
     "metadata": {},
     "output_type": "display_data"
    }
   ],
   "source": [
    "regrets_array = np.array([GMA_1_regrets[:,1], GMA_1_MOM_regrets[:,1]]).T\n",
    "df = pd.DataFrame(regrets_array) \n",
    "df.columns = [\"Q-aggregation\", \"MOM-Q-aggregation\"]\n",
    "\n",
    "ax = sns.violinplot(data=df, shape='count')\n",
    "#ax.hlines(fast_residual_term, *ax.get_xlim(), alpha=0.7, color='black', linestyle='dashed', label='Optimal regret')"
   ]
  },
  {
   "cell_type": "code",
   "execution_count": 14,
   "metadata": {},
   "outputs": [
    {
     "ename": "NameError",
     "evalue": "name 'sns' is not defined",
     "output_type": "error",
     "traceback": [
      "\u001b[0;31m---------------------------------------------------------------------------\u001b[0m",
      "\u001b[0;31mNameError\u001b[0m                                 Traceback (most recent call last)",
      "\u001b[0;32m<ipython-input-14-a88b387dcb24>\u001b[0m in \u001b[0;36m<module>\u001b[0;34m()\u001b[0m\n\u001b[1;32m      1\u001b[0m \u001b[0;34m\u001b[0m\u001b[0m\n\u001b[0;32m----> 2\u001b[0;31m \u001b[0max\u001b[0m \u001b[0;34m=\u001b[0m \u001b[0msns\u001b[0m\u001b[0;34m.\u001b[0m\u001b[0mviolinplot\u001b[0m\u001b[0;34m(\u001b[0m\u001b[0mdf\u001b[0m\u001b[0;34m,\u001b[0m \u001b[0mscale\u001b[0m\u001b[0;34m=\u001b[0m\u001b[0;34m'count'\u001b[0m\u001b[0;34m)\u001b[0m\u001b[0;34m\u001b[0m\u001b[0m\n\u001b[0m\u001b[1;32m      3\u001b[0m \u001b[0max\u001b[0m\u001b[0;34m.\u001b[0m\u001b[0mset\u001b[0m\u001b[0;34m(\u001b[0m\u001b[0myscale\u001b[0m\u001b[0;34m=\u001b[0m\u001b[0;34m\"log\"\u001b[0m\u001b[0;34m)\u001b[0m\u001b[0;34m\u001b[0m\u001b[0m\n\u001b[1;32m      4\u001b[0m \u001b[0;31m#ax.set_ylim(0, 5)\u001b[0m\u001b[0;34m\u001b[0m\u001b[0;34m\u001b[0m\u001b[0m\n\u001b[1;32m      5\u001b[0m \u001b[0max\u001b[0m\u001b[0;34m.\u001b[0m\u001b[0mhlines\u001b[0m\u001b[0;34m(\u001b[0m\u001b[0mfast_residual_term\u001b[0m\u001b[0;34m,\u001b[0m \u001b[0;34m*\u001b[0m\u001b[0max\u001b[0m\u001b[0;34m.\u001b[0m\u001b[0mget_xlim\u001b[0m\u001b[0;34m(\u001b[0m\u001b[0;34m)\u001b[0m\u001b[0;34m,\u001b[0m \u001b[0malpha\u001b[0m\u001b[0;34m=\u001b[0m\u001b[0;36m0.7\u001b[0m\u001b[0;34m,\u001b[0m \u001b[0mcolor\u001b[0m\u001b[0;34m=\u001b[0m\u001b[0;34m'black'\u001b[0m\u001b[0;34m,\u001b[0m \u001b[0mlinestyle\u001b[0m\u001b[0;34m=\u001b[0m\u001b[0;34m'dashed'\u001b[0m\u001b[0;34m,\u001b[0m \u001b[0mlabel\u001b[0m\u001b[0;34m=\u001b[0m\u001b[0;34m'Optimal regret'\u001b[0m\u001b[0;34m)\u001b[0m\u001b[0;34m\u001b[0m\u001b[0m\n",
      "\u001b[0;31mNameError\u001b[0m: name 'sns' is not defined"
     ]
    }
   ],
   "source": [
    "ax = sns.violinplot(df, scale='count')\n",
    "ax.set(yscale=\"log\")\n",
    "#ax.set_ylim(0, 5)\n",
    "ax.hlines(fast_residual_term, *ax.get_xlim(), alpha=0.7, color='black', linestyle='dashed', label='Optimal regret')\n",
    "plt.legend()\n",
    "plt.title('Distributions of the regret for Q-aggregation')\n",
    "plt.xlabel('Proportion of outliers')\n",
    "plt.ylabel('Regret (log-scale)')"
   ]
  },
  {
   "cell_type": "code",
   "execution_count": 438,
   "metadata": {},
   "outputs": [
    {
     "data": {
      "image/png": "[encoded data removed]",
      "text/plain": [
       "<matplotlib.figure.Figure at 0x11a519a20>"
      ]
     },
     "metadata": {},
     "output_type": "display_data"
    },
    {
     "data": {
      "image/png": "[encoded data removed]",
      "text/plain": [
       "<matplotlib.figure.Figure at 0x11a995828>"
      ]
     },
     "metadata": {},
     "output_type": "display_data"
    },
    {
     "data": {
      "image/png": "[encoded data removed]",
      "text/plain": [
       "<matplotlib.figure.Figure at 0x11a6dc978>"
      ]
     },
     "metadata": {},
     "output_type": "display_data"
    },
    {
     "data": {
      "image/png": "[encoded data removed]",
      "text/plain": [
       "<matplotlib.figure.Figure at 0x11b3f9b38>"
      ]
     },
     "metadata": {},
     "output_type": "display_data"
    },
    {
     "data": {
      "image/png": "[encoded data removed]",
      "text/plain": [
       "<matplotlib.figure.Figure at 0x11aa9fa20>"
      ]
     },
     "metadata": {},
     "output_type": "display_data"
    }
   ],
   "source": [
    "for i in range(5):\n",
    "    plt.hist(regrets[:,i], bins=20)\n",
    "    plt.axvline(fast_residual_term)\n",
    "    plt.show()"
   ]
  },
  {
   "cell_type": "markdown",
   "metadata": {},
   "source": [
    "# MOM version"
   ]
  },
  {
   "cell_type": "code",
   "execution_count": 13,
   "metadata": {},
   "outputs": [
    {
     "data": {
      "text/plain": [
       "19"
      ]
     },
     "execution_count": 13,
     "metadata": {},
     "output_type": "execute_result"
    }
   ],
   "source": [
    "# find median index\n",
    "data = [0, 5, 3, 6, 23, 15, 19, 20, 19, 21]\n",
    "data[numpy.argsort(data)[len(data)//2]]"
   ]
  },
  {
   "cell_type": "code",
   "execution_count": 34,
   "metadata": {},
   "outputs": [
    {
     "name": "stderr",
     "output_type": "stream",
     "text": [
      "100%|██████████| 10/10 [00:25<00:00,  2.56s/it]\n"
     ]
    }
   ],
   "source": [
    "regrets_MOM = []\n",
    "\n",
    "n_replicate = 10\n",
    "\n",
    "for i in tqdm(range(n_replicate)):\n",
    "    X, y = make_gaussian_regression(n_samples, d, noise_sd)\n",
    "\n",
    "    X_train, X_agg, X_test, y_train, y_agg, y_test = train_agg_test_split(X, y, 0.4, 0.3)\n",
    "\n",
    "    predictors = make_function_class_regression()\n",
    "\n",
    "    q = Q_aggregation(predictors)\n",
    "\n",
    "    q.train_predictors(X_train, y_train)\n",
    "\n",
    "    X_agg, y_agg = corrupt_dataset(X_agg, y_agg, prop_outliers=.25, corruption_type='constant')\n",
    "\n",
    "    q.GMA_1_MOM(X_agg, y_agg, 30, 10)\n",
    "\n",
    "    MSE_agg = mean_squared_error(q.predict(X_test), y_test)\n",
    "\n",
    "    oracle_agg = np.min([mean_squared_error(q.predictors[i].predict(X_test), y_test) for i in range(len(predictors))])\n",
    "    worst_agg = np.max([mean_squared_error(q.predictors[i].predict(X_test), y_test) for i in range(len(predictors))])\n",
    "    regrets_MOM.append(MSE_agg - oracle_agg)"
   ]
  },
  {
   "cell_type": "code",
   "execution_count": 20,
   "metadata": {},
   "outputs": [
    {
     "name": "stderr",
     "output_type": "stream",
     "text": [
      "100%|██████████| 300/300 [40:21<00:00,  8.07s/it]\n"
     ]
    }
   ],
   "source": [
    "regrets = []\n",
    "for i in tqdm(range(n_replicate)):\n",
    "    X, y = make_gaussian_regression(n_samples, d, noise_sd)\n",
    "\n",
    "    X_train, X_agg, X_test, y_train, y_agg, y_test = train_agg_test_split(X, y, 0.4, 0.3)\n",
    "\n",
    "    predictors = make_function_class_regression()\n",
    "\n",
    "    q = Q_aggregation(predictors)\n",
    "\n",
    "    q.train_predictors(X_train, y_train)\n",
    "\n",
    "    X_agg, y_agg = corrupt_dataset(X_agg, y_agg, prop_outliers=.25, corruption_type='constant')\n",
    "\n",
    "    q.GMA_1(X_agg, y_agg, 30)\n",
    "\n",
    "    MSE_agg = mean_squared_error(q.predict(X_test), y_test)\n",
    "\n",
    "    oracle_agg = np.min([mean_squared_error(q.predictors[i].predict(X_test), y_test) for i in range(len(predictors))])\n",
    "    worst_agg = np.max([mean_squared_error(q.predictors[i].predict(X_test), y_test) for i in range(len(predictors))])\n",
    "    regrets.append(MSE_agg - oracle_agg)"
   ]
  },
  {
   "cell_type": "code",
   "execution_count": 27,
   "metadata": {
    "collapsed": true
   },
   "outputs": [],
   "source": [
    "regrets_array = np.array([regrets, regrets_MOM]).T\n",
    "df_2 = pd.DataFrame(regrets_array) \n",
    "df_2.columns = [\"Q-aggregation\", \"MOM-Q-aggregation\"]\n",
    "\n",
    "ax = sns.violinplot(data=df_2, shape='count')\n",
    "ax.hlines(fast_residual_term, *ax.get_xlim(), alpha=0.7, color='black', linestyle='dashed', label='Optimal regret')"
   ]
  },
  {
   "cell_type": "code",
   "execution_count": 32,
   "metadata": {
    "scrolled": true
   },
   "outputs": [
    {
     "data": {
      "text/plain": [
       "<matplotlib.collections.LineCollection at 0x11b2f0550>"
      ]
     },
     "execution_count": 32,
     "metadata": {},
     "output_type": "execute_result"
    },
    {
     "data": {
      "image/png": "[encoded data removed]",
      "text/plain": [
       "<matplotlib.figure.Figure at 0x10a37fd30>"
      ]
     },
     "metadata": {},
     "output_type": "display_data"
    }
   ],
   "source": [
    "ax = sns.violinplot(data=df_2, shape='count')\n",
    "ax.hlines(fast_residual_term, *ax.get_xlim(), alpha=0.7, color='black', linestyle='dashed', label='Optimal regret')"
   ]
  },
  {
   "cell_type": "code",
   "execution_count": 29,
   "metadata": {
    "scrolled": true
   },
   "outputs": [
    {
     "data": {
      "text/plain": [
       "0.011552453009332421"
      ]
     },
     "execution_count": 29,
     "metadata": {},
     "output_type": "execute_result"
    }
   ],
   "source": [
    "fast_residual_term = np.log(len(predictors))/y_agg.shape[0]\n",
    "fast_residual_term"
   ]
  }
 ],
 "metadata": {
  "kernelspec": {
   "display_name": "Python 3",
   "language": "python",
   "name": "python3"
  },
  "language_info": {
   "codemirror_mode": {
    "name": "ipython",
    "version": 3
   },
   "file_extension": ".py",
   "mimetype": "text/x-python",
   "name": "python",
   "nbconvert_exporter": "python",
   "pygments_lexer": "ipython3",
   "version": "3.5.3"
  }
 },
 "nbformat": 4,
 "nbformat_minor": 2
}
