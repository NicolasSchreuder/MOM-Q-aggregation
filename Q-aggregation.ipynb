{
 "cells": [
  {
   "cell_type": "markdown",
   "metadata": {},
   "source": [
    "#  Q-AGGREGATION"
   ]
  },
  {
   "cell_type": "markdown",
   "metadata": {},
   "source": [
    "Define the Q-functional : \n",
    "\n",
    "\\begin{align}\n",
    "\\begin{split}\n",
    "Q(\\theta) &= (1-\\nu) R_n(f_\\theta) &+ \\nu \\sum_{j=1} \\theta_j R_n(f_j) \\\\\n",
    "&= (1-\\nu) \\frac{1}{n} \\sum_{i=1}^n (y_i - f_\\theta(x_i))^2 &+ \\nu \\sum_{j=1}^M \\theta_j \\frac{1}{n} \\sum_{i=1}^n (y_i - f_j(x_i))^2 \\\\\n",
    "&= (1-\\nu) \\frac{1}{n} \\sum_{i=1}^n (y_i - \\sum_{j=1}^M \\theta_j f_j(x_i))^2 &+ \\nu \\sum_{j=1}^M \\theta_j \\frac{1}{n} \\sum_{i=1}^n (y_i - f_j(x_i))^2\\end{split}\n",
    "\\end{align}\n",
    "\n",
    "The Q-aggregate estimator verifies :\n",
    "\n",
    "\\begin{align}\n",
    "\\theta^Q = \\arg \\min_{\\theta \\in \\Theta} Q(\\theta)\n",
    "\\end{align}\n",
    "\n",
    "\n",
    "We can compute the partial derivatives of the Q-functional :\n",
    "\n",
    "\\begin{align}\n",
    "\\begin{split}\n",
    "\\frac{\\partial}{\\partial \\theta_l} Q(\\theta) &\\propto (1-\\nu) \\sum_{i=1}^n -2 f_l(x_i) \\left(y_i - \\sum_{j=1}^M \\lambda_j f_j(x_i)\\right) + \\nu \\sum_{i=1}^n (y_i - f_l(x_i))^2 \\\\\n",
    "&\\propto \\sum_{i=1}^n - 2 (1-\\nu) f_l(x_i) \\left(y_i - \\sum_{j=1}^M \\lambda_j f_j(x_i)\\right) + \\nu (y_i - f_l(x_i))^2\n",
    "\\end{split}\n",
    "\\end{align}\n",
    "\n",
    "and use greedy Frank-Wolfe algorithm as in Rigollet et al.\n",
    "\n",
    "We have shown that the performance of the algorithm deteriorates as we add outliers in the dataset.\n",
    "\n",
    "We thus introduced a MOM version of the Q-functional :\n",
    "\n",
    "\\begin{align}\n",
    "Q^{MOM}(\\theta) = (1-\\nu) MOM_K (f(\\theta)) + \\nu \\sum_{j=1}^M \\theta_j MOM_K(f(\\theta_j)) \n",
    "\\end{align}\n",
    "\n",
    "We implemented a MOM version of the greedy Frank Wolfe algorithm (similar to the MOM version of gradient descent, i.e. at each step we randomly constitute blocks, we find the block which has the median mean and proceed to a normal step of the algorithm with the data from this median block). This does not seem to work.\n",
    "\n",
    "The next idea is to try IP methods to solve this problem. Greedy FW had the advantage of returning a sparse solution, however it seems that, since once a function is selected, it is neither removed, each step is \"too\" important."
   ]
  },
  {
   "cell_type": "code",
   "execution_count": 9,
   "metadata": {},
   "outputs": [
    {
     "name": "stdout",
     "output_type": "stream",
     "text": [
      "Populating the interactive namespace from numpy and matplotlib\n",
      "The autoreload extension is already loaded. To reload it, use:\n",
      "  %reload_ext autoreload\n"
     ]
    }
   ],
   "source": [
    "import numpy as np\n",
    "\n",
    "import pandas as pd\n",
    "\n",
    "import matplotlib.pyplot as plt \n",
    "import seaborn as sns\n",
    "%pylab inline\n",
    "\n",
    "%load_ext autoreload\n",
    "%autoreload 1\n",
    "\n",
    "from Qagg import Q_aggregation\n",
    "from test_functions import *\n",
    "%aimport Qagg \n",
    "%aimport test_functions"
   ]
  },
  {
   "cell_type": "markdown",
   "metadata": {},
   "source": [
    "# Computations for IP method\n",
    "\n",
    "Objective function : \n",
    "\n",
    "\\begin{align}\n",
    "f_0(\\theta) = \\frac{(1-\\nu)}{|B_0^*|} \\sum_{i \\in B_0^*} \\left(y_i - \\sum_{j=1}^M \\theta_j f_j(x_i)\\right)^2 + \\nu \\sum_{j=1}^M \\theta_j \\frac{1}{|B_j^*|}\\sum_{i \\in B_j^*} \\left(y_i - f_j(x_i)\\right)^2 \n",
    "\\end{align}\n",
    "\n",
    "The first derivatives are given by :\n",
    "\n",
    "\\begin{align}\n",
    "\\frac{\\partial}{\\partial \\theta_l} f_0(\\theta) = \\frac{(1-\\nu)}{|B_0^*|} \\sum_{i \\in B_0^*} -2 f_l(x_i) \\left(y_i - \\sum_{j=1}^M \\theta_j f_j(x_i)\\right) + \\nu \\frac{1}{|B_l^*|}\\sum_{i \\in B_l^*} \\left(y_i - f_l(x_i)\\right)^2, \\quad  l=1, \\dots, M\n",
    "\\end{align}\n",
    "\n",
    "The second derivatives are given by, \n",
    "\\begin{align}\n",
    "\\frac{\\partial^2}{\\partial \\theta_l \\partial \\theta_m} f_0(\\theta) = \\frac{2(1-\\nu)}{|B_0^*|} \\sum_{i \\in B_0^*}f_l(x_i)f_m(x_i) \\quad l, m=1, \\dots, M\n",
    "\\end{align}"
   ]
  },
  {
   "cell_type": "markdown",
   "metadata": {
    "collapsed": true
   },
   "source": [
    "# Gaussian regression"
   ]
  },
  {
   "cell_type": "markdown",
   "metadata": {},
   "source": [
    "We begin by consider a simple Gaussian regression model.\n",
    "\n",
    "The model is defined by the following distributions :\n",
    "\\begin{align}\n",
    "X \\sim \\mathcal{N}(0, I_d)\\\\\n",
    "\\xi \\sim \\mathcal{N}(0, \\sigma^2) \\\\\n",
    "Y = \\langle X, t^* \\rangle + \\xi\n",
    "\\end{align}"
   ]
  },
  {
   "cell_type": "code",
   "execution_count": 10,
   "metadata": {},
   "outputs": [],
   "source": [
    "# Example \n",
    "n, d = 1000, 50\n",
    "noise_sd = .5\n",
    "n_samples=1000\n",
    "\n",
    "X, y = make_gaussian_regression(n_samples, d, noise_sd)\n",
    "\n",
    "X_train, X_agg, X_test, y_train, y_agg, y_test = train_agg_test_split(X, y, 0.4, 0.3)\n",
    "\n",
    "X_agg, y_agg = corrupt_dataset(X_agg, y_agg, prop_outliers=0.1, corruption_type='constant')"
   ]
  },
  {
   "cell_type": "code",
   "execution_count": 52,
   "metadata": {
    "scrolled": true
   },
   "outputs": [
    {
     "name": "stderr",
     "output_type": "stream",
     "text": [
      "100%|██████████| 200/200 [07:49<00:00,  2.35s/it]\n"
     ]
    }
   ],
   "source": [
    "GMA_1_regret = test_gaussian_regression_outliers(n_samples=1000, d=20, n_replications=200, \n",
    "                                      prop_outliers=0.3, agg_method='GMA_1', noise_sd=0.5)"
   ]
  },
  {
   "cell_type": "code",
   "execution_count": 72,
   "metadata": {
    "scrolled": true
   },
   "outputs": [
    {
     "name": "stderr",
     "output_type": "stream",
     "text": [
      "  0%|          | 0/200 [00:00<?, ?it/s]\n"
     ]
    },
    {
     "ename": "KeyboardInterrupt",
     "evalue": "",
     "output_type": "error",
     "traceback": [
      "\u001b[0;31m---------------------------------------------------------------------------\u001b[0m",
      "\u001b[0;31mKeyboardInterrupt\u001b[0m                         Traceback (most recent call last)",
      "\u001b[0;32m<ipython-input-72-262d7b902887>\u001b[0m in \u001b[0;36m<module>\u001b[0;34m()\u001b[0m\n\u001b[1;32m      1\u001b[0m GMA_1_MOM_regret = test_gaussian_regression_outliers(n_samples=1000, d=20, n_replications=200, \n\u001b[0;32m----> 2\u001b[0;31m                                       prop_outliers=0.3, agg_method='GMA_1_MOM', noise_sd=0.5)\n\u001b[0m",
      "\u001b[0;32m/Users/Schreuder/Google Drive/Thèse/MOM-Q-aggregation/test_functions.py\u001b[0m in \u001b[0;36mtest_gaussian_regression_outliers\u001b[0;34m(n_samples, d, n_replications, prop_outliers, agg_method, noise_sd)\u001b[0m\n\u001b[1;32m    125\u001b[0m \u001b[0;34m\u001b[0m\u001b[0m\n\u001b[1;32m    126\u001b[0m         \u001b[0;32melif\u001b[0m \u001b[0magg_method\u001b[0m \u001b[0;34m==\u001b[0m \u001b[0;34m'GMA_1_MOM'\u001b[0m\u001b[0;34m:\u001b[0m\u001b[0;34m\u001b[0m\u001b[0m\n\u001b[0;32m--> 127\u001b[0;31m             \u001b[0mq\u001b[0m\u001b[0;34m.\u001b[0m\u001b[0mGMA_1_MOM\u001b[0m\u001b[0;34m(\u001b[0m\u001b[0mX_agg\u001b[0m\u001b[0;34m,\u001b[0m \u001b[0my_agg\u001b[0m\u001b[0;34m,\u001b[0m \u001b[0;36m10\u001b[0m\u001b[0;34m,\u001b[0m \u001b[0;36m50\u001b[0m\u001b[0;34m)\u001b[0m\u001b[0;34m\u001b[0m\u001b[0m\n\u001b[0m\u001b[1;32m    128\u001b[0m \u001b[0;34m\u001b[0m\u001b[0m\n\u001b[1;32m    129\u001b[0m         \u001b[0;32melif\u001b[0m \u001b[0magg_method\u001b[0m \u001b[0;34m==\u001b[0m \u001b[0;34m'IP_MOM'\u001b[0m\u001b[0;34m:\u001b[0m\u001b[0;34m\u001b[0m\u001b[0m\n",
      "\u001b[0;32m/Users/Schreuder/Google Drive/Thèse/MOM-Q-aggregation/Qagg.py\u001b[0m in \u001b[0;36mGMA_1_MOM\u001b[0;34m(self, X, y, n_steps, n_blocks)\u001b[0m\n\u001b[1;32m    174\u001b[0m             \u001b[0malpha\u001b[0m \u001b[0;34m=\u001b[0m \u001b[0;36m2\u001b[0m\u001b[0;34m/\u001b[0m\u001b[0;34m(\u001b[0m\u001b[0mk\u001b[0m\u001b[0;34m+\u001b[0m\u001b[0;36m1\u001b[0m\u001b[0;34m)\u001b[0m\u001b[0;34m\u001b[0m\u001b[0m\n\u001b[1;32m    175\u001b[0m \u001b[0;34m\u001b[0m\u001b[0m\n\u001b[0;32m--> 176\u001b[0;31m             \u001b[0maggregate_median_block_idx\u001b[0m\u001b[0;34m,\u001b[0m \u001b[0mindividual_median_block_idx\u001b[0m \u001b[0;34m=\u001b[0m \u001b[0mself\u001b[0m\u001b[0;34m.\u001b[0m\u001b[0msplit_into_blocks\u001b[0m\u001b[0;34m(\u001b[0m\u001b[0my\u001b[0m\u001b[0;34m,\u001b[0m \u001b[0mpredictions\u001b[0m\u001b[0;34m,\u001b[0m \u001b[0mtheta\u001b[0m\u001b[0;34m,\u001b[0m \u001b[0mn_blocks\u001b[0m\u001b[0;34m)\u001b[0m\u001b[0;34m\u001b[0m\u001b[0m\n\u001b[0m\u001b[1;32m    177\u001b[0m \u001b[0;34m\u001b[0m\u001b[0m\n\u001b[1;32m    178\u001b[0m             \u001b[0mJ\u001b[0m \u001b[0;34m=\u001b[0m \u001b[0mnp\u001b[0m\u001b[0;34m.\u001b[0m\u001b[0margmin\u001b[0m\u001b[0;34m(\u001b[0m\u001b[0mself\u001b[0m\u001b[0;34m.\u001b[0m\u001b[0mNablaQ_MOM\u001b[0m\u001b[0;34m(\u001b[0m\u001b[0mtheta\u001b[0m\u001b[0;34m,\u001b[0m \u001b[0mpredictions\u001b[0m\u001b[0;34m,\u001b[0m \u001b[0my\u001b[0m\u001b[0;34m,\u001b[0m \u001b[0maggregate_median_block_idx\u001b[0m\u001b[0;34m,\u001b[0m \u001b[0mindividual_median_block_idx\u001b[0m\u001b[0;34m)\u001b[0m\u001b[0;34m)\u001b[0m\u001b[0;34m\u001b[0m\u001b[0m\n",
      "\u001b[0;32m/Users/Schreuder/Google Drive/Thèse/MOM-Q-aggregation/Qagg.py\u001b[0m in \u001b[0;36msplit_into_blocks\u001b[0;34m(self, y, predictions, theta, n_blocks)\u001b[0m\n\u001b[1;32m    152\u001b[0m \u001b[0;34m\u001b[0m\u001b[0m\n\u001b[1;32m    153\u001b[0m             block_risks = [mean_squared_error(predictions[block, m], y[block])\n\u001b[0;32m--> 154\u001b[0;31m                        for block in blocks_idx]\n\u001b[0m\u001b[1;32m    155\u001b[0m \u001b[0;34m\u001b[0m\u001b[0m\n\u001b[1;32m    156\u001b[0m             \u001b[0mindividual_median_block_idx\u001b[0m\u001b[0;34m[\u001b[0m\u001b[0mm\u001b[0m\u001b[0;34m,\u001b[0m\u001b[0;34m:\u001b[0m\u001b[0;34m]\u001b[0m \u001b[0;34m=\u001b[0m \u001b[0mblocks_idx\u001b[0m\u001b[0;34m[\u001b[0m\u001b[0mnp\u001b[0m\u001b[0;34m.\u001b[0m\u001b[0margsort\u001b[0m\u001b[0;34m(\u001b[0m\u001b[0mblock_risks\u001b[0m\u001b[0;34m)\u001b[0m\u001b[0;34m[\u001b[0m\u001b[0mn_blocks\u001b[0m\u001b[0;34m//\u001b[0m\u001b[0;36m2\u001b[0m\u001b[0;34m]\u001b[0m\u001b[0;34m]\u001b[0m\u001b[0;34m\u001b[0m\u001b[0m\n",
      "\u001b[0;32m/Users/Schreuder/Google Drive/Thèse/MOM-Q-aggregation/Qagg.py\u001b[0m in \u001b[0;36m<listcomp>\u001b[0;34m(.0)\u001b[0m\n\u001b[1;32m    152\u001b[0m \u001b[0;34m\u001b[0m\u001b[0m\n\u001b[1;32m    153\u001b[0m             block_risks = [mean_squared_error(predictions[block, m], y[block])\n\u001b[0;32m--> 154\u001b[0;31m                        for block in blocks_idx]\n\u001b[0m\u001b[1;32m    155\u001b[0m \u001b[0;34m\u001b[0m\u001b[0m\n\u001b[1;32m    156\u001b[0m             \u001b[0mindividual_median_block_idx\u001b[0m\u001b[0;34m[\u001b[0m\u001b[0mm\u001b[0m\u001b[0;34m,\u001b[0m\u001b[0;34m:\u001b[0m\u001b[0;34m]\u001b[0m \u001b[0;34m=\u001b[0m \u001b[0mblocks_idx\u001b[0m\u001b[0;34m[\u001b[0m\u001b[0mnp\u001b[0m\u001b[0;34m.\u001b[0m\u001b[0margsort\u001b[0m\u001b[0;34m(\u001b[0m\u001b[0mblock_risks\u001b[0m\u001b[0;34m)\u001b[0m\u001b[0;34m[\u001b[0m\u001b[0mn_blocks\u001b[0m\u001b[0;34m//\u001b[0m\u001b[0;36m2\u001b[0m\u001b[0;34m]\u001b[0m\u001b[0;34m]\u001b[0m\u001b[0;34m\u001b[0m\u001b[0m\n",
      "\u001b[0;32m/Users/Schreuder/anaconda/lib/python3.5/site-packages/sklearn/metrics/regression.py\u001b[0m in \u001b[0;36mmean_squared_error\u001b[0;34m(y_true, y_pred, sample_weight, multioutput)\u001b[0m\n\u001b[1;32m    236\u001b[0m     \"\"\"\n\u001b[1;32m    237\u001b[0m     y_type, y_true, y_pred, multioutput = _check_reg_targets(\n\u001b[0;32m--> 238\u001b[0;31m         y_true, y_pred, multioutput)\n\u001b[0m\u001b[1;32m    239\u001b[0m     output_errors = np.average((y_true - y_pred) ** 2, axis=0,\n\u001b[1;32m    240\u001b[0m                                weights=sample_weight)\n",
      "\u001b[0;32m/Users/Schreuder/anaconda/lib/python3.5/site-packages/sklearn/metrics/regression.py\u001b[0m in \u001b[0;36m_check_reg_targets\u001b[0;34m(y_true, y_pred, multioutput)\u001b[0m\n\u001b[1;32m     74\u001b[0m     \"\"\"\n\u001b[1;32m     75\u001b[0m     \u001b[0mcheck_consistent_length\u001b[0m\u001b[0;34m(\u001b[0m\u001b[0my_true\u001b[0m\u001b[0;34m,\u001b[0m \u001b[0my_pred\u001b[0m\u001b[0;34m)\u001b[0m\u001b[0;34m\u001b[0m\u001b[0m\n\u001b[0;32m---> 76\u001b[0;31m     \u001b[0my_true\u001b[0m \u001b[0;34m=\u001b[0m \u001b[0mcheck_array\u001b[0m\u001b[0;34m(\u001b[0m\u001b[0my_true\u001b[0m\u001b[0;34m,\u001b[0m \u001b[0mensure_2d\u001b[0m\u001b[0;34m=\u001b[0m\u001b[0;32mFalse\u001b[0m\u001b[0;34m)\u001b[0m\u001b[0;34m\u001b[0m\u001b[0m\n\u001b[0m\u001b[1;32m     77\u001b[0m     \u001b[0my_pred\u001b[0m \u001b[0;34m=\u001b[0m \u001b[0mcheck_array\u001b[0m\u001b[0;34m(\u001b[0m\u001b[0my_pred\u001b[0m\u001b[0;34m,\u001b[0m \u001b[0mensure_2d\u001b[0m\u001b[0;34m=\u001b[0m\u001b[0;32mFalse\u001b[0m\u001b[0;34m)\u001b[0m\u001b[0;34m\u001b[0m\u001b[0m\n\u001b[1;32m     78\u001b[0m \u001b[0;34m\u001b[0m\u001b[0m\n",
      "\u001b[0;32m/Users/Schreuder/anaconda/lib/python3.5/site-packages/sklearn/utils/validation.py\u001b[0m in \u001b[0;36mcheck_array\u001b[0;34m(array, accept_sparse, dtype, order, copy, force_all_finite, ensure_2d, allow_nd, ensure_min_samples, ensure_min_features, warn_on_dtype, estimator)\u001b[0m\n\u001b[1;32m    455\u001b[0m     \u001b[0mshape_repr\u001b[0m \u001b[0;34m=\u001b[0m \u001b[0m_shape_repr\u001b[0m\u001b[0;34m(\u001b[0m\u001b[0marray\u001b[0m\u001b[0;34m.\u001b[0m\u001b[0mshape\u001b[0m\u001b[0;34m)\u001b[0m\u001b[0;34m\u001b[0m\u001b[0m\n\u001b[1;32m    456\u001b[0m     \u001b[0;32mif\u001b[0m \u001b[0mensure_min_samples\u001b[0m \u001b[0;34m>\u001b[0m \u001b[0;36m0\u001b[0m\u001b[0;34m:\u001b[0m\u001b[0;34m\u001b[0m\u001b[0m\n\u001b[0;32m--> 457\u001b[0;31m         \u001b[0mn_samples\u001b[0m \u001b[0;34m=\u001b[0m \u001b[0m_num_samples\u001b[0m\u001b[0;34m(\u001b[0m\u001b[0marray\u001b[0m\u001b[0;34m)\u001b[0m\u001b[0;34m\u001b[0m\u001b[0m\n\u001b[0m\u001b[1;32m    458\u001b[0m         \u001b[0;32mif\u001b[0m \u001b[0mn_samples\u001b[0m \u001b[0;34m<\u001b[0m \u001b[0mensure_min_samples\u001b[0m\u001b[0;34m:\u001b[0m\u001b[0;34m\u001b[0m\u001b[0m\n\u001b[1;32m    459\u001b[0m             raise ValueError(\"Found array with %d sample(s) (shape=%s) while a\"\n",
      "\u001b[0;32m/Users/Schreuder/anaconda/lib/python3.5/site-packages/sklearn/utils/validation.py\u001b[0m in \u001b[0;36m_num_samples\u001b[0;34m(x)\u001b[0m\n\u001b[1;32m    104\u001b[0m \u001b[0;32mdef\u001b[0m \u001b[0m_num_samples\u001b[0m\u001b[0;34m(\u001b[0m\u001b[0mx\u001b[0m\u001b[0;34m)\u001b[0m\u001b[0;34m:\u001b[0m\u001b[0;34m\u001b[0m\u001b[0m\n\u001b[1;32m    105\u001b[0m     \u001b[0;34m\"\"\"Return number of samples in array-like x.\"\"\"\u001b[0m\u001b[0;34m\u001b[0m\u001b[0m\n\u001b[0;32m--> 106\u001b[0;31m     \u001b[0;32mif\u001b[0m \u001b[0mhasattr\u001b[0m\u001b[0;34m(\u001b[0m\u001b[0mx\u001b[0m\u001b[0;34m,\u001b[0m \u001b[0;34m'fit'\u001b[0m\u001b[0;34m)\u001b[0m \u001b[0;32mand\u001b[0m \u001b[0mcallable\u001b[0m\u001b[0;34m(\u001b[0m\u001b[0mx\u001b[0m\u001b[0;34m.\u001b[0m\u001b[0mfit\u001b[0m\u001b[0;34m)\u001b[0m\u001b[0;34m:\u001b[0m\u001b[0;34m\u001b[0m\u001b[0m\n\u001b[0m\u001b[1;32m    107\u001b[0m         \u001b[0;31m# Don't get num_samples from an ensembles length!\u001b[0m\u001b[0;34m\u001b[0m\u001b[0;34m\u001b[0m\u001b[0m\n\u001b[1;32m    108\u001b[0m         raise TypeError('Expected sequence or array-like, got '\n",
      "\u001b[0;31mKeyboardInterrupt\u001b[0m: "
     ]
    }
   ],
   "source": [
    "GMA_1_MOM_regret = test_gaussian_regression_outliers(n_samples=1000, d=20, n_replications=200, \n",
    "                                      prop_outliers=0.3, agg_method='GMA_1_MOM', noise_sd=0.5)"
   ]
  },
  {
   "cell_type": "code",
   "execution_count": 73,
   "metadata": {},
   "outputs": [
    {
     "name": "stderr",
     "output_type": "stream",
     "text": [
      "\r",
      "  0%|          | 0/200 [00:00<?, ?it/s]"
     ]
    },
    {
     "ename": "KeyboardInterrupt",
     "evalue": "",
     "output_type": "error",
     "traceback": [
      "\u001b[0;31m---------------------------------------------------------------------------\u001b[0m",
      "\u001b[0;31mKeyboardInterrupt\u001b[0m                         Traceback (most recent call last)",
      "\u001b[0;32m<ipython-input-73-82f5faab2f87>\u001b[0m in \u001b[0;36m<module>\u001b[0;34m()\u001b[0m\n\u001b[1;32m      1\u001b[0m IP_MOM_regret = test_gaussian_regression_outliers(n_samples=1000, d=20, n_replications=200, \n\u001b[0;32m----> 2\u001b[0;31m                                       prop_outliers=0.3, agg_method='IP_MOM', noise_sd=0.5)\n\u001b[0m",
      "\u001b[0;32m/Users/Schreuder/Google Drive/Thèse/MOM-Q-aggregation/test_functions.py\u001b[0m in \u001b[0;36mtest_gaussian_regression_outliers\u001b[0;34m(n_samples, d, n_replications, prop_outliers, agg_method, noise_sd)\u001b[0m\n\u001b[1;32m    128\u001b[0m \u001b[0;34m\u001b[0m\u001b[0m\n\u001b[1;32m    129\u001b[0m         \u001b[0;32melif\u001b[0m \u001b[0magg_method\u001b[0m \u001b[0;34m==\u001b[0m \u001b[0;34m'IP_MOM'\u001b[0m\u001b[0;34m:\u001b[0m\u001b[0;34m\u001b[0m\u001b[0m\n\u001b[0;32m--> 130\u001b[0;31m             \u001b[0mq\u001b[0m\u001b[0;34m.\u001b[0m\u001b[0mIP_MOM\u001b[0m\u001b[0;34m(\u001b[0m\u001b[0mX_agg\u001b[0m\u001b[0;34m,\u001b[0m \u001b[0my_agg\u001b[0m\u001b[0;34m,\u001b[0m \u001b[0mn_blocks\u001b[0m\u001b[0;34m=\u001b[0m\u001b[0;36m50\u001b[0m\u001b[0;34m,\u001b[0m \u001b[0mt\u001b[0m\u001b[0;34m=\u001b[0m\u001b[0;36m1\u001b[0m\u001b[0;34m,\u001b[0m \u001b[0mmu\u001b[0m\u001b[0;34m=\u001b[0m\u001b[0;36m5\u001b[0m\u001b[0;34m,\u001b[0m \u001b[0mtol\u001b[0m\u001b[0;34m=\u001b[0m\u001b[0;36m1e-1\u001b[0m\u001b[0;34m)\u001b[0m\u001b[0;34m\u001b[0m\u001b[0m\n\u001b[0m\u001b[1;32m    131\u001b[0m \u001b[0;34m\u001b[0m\u001b[0m\n\u001b[1;32m    132\u001b[0m         \u001b[0;32melse\u001b[0m\u001b[0;34m:\u001b[0m\u001b[0;34m\u001b[0m\u001b[0m\n",
      "\u001b[0;32m/Users/Schreuder/Google Drive/Thèse/MOM-Q-aggregation/Qagg.py\u001b[0m in \u001b[0;36mIP_MOM\u001b[0;34m(self, X, y, n_blocks, t, mu, tol)\u001b[0m\n\u001b[1;32m    371\u001b[0m \u001b[0;34m\u001b[0m\u001b[0m\n\u001b[1;32m    372\u001b[0m         \u001b[0;31m# first step of newton_method\u001b[0m\u001b[0;34m\u001b[0m\u001b[0;34m\u001b[0m\u001b[0m\n\u001b[0;32m--> 373\u001b[0;31m         \u001b[0mtheta\u001b[0m \u001b[0;34m=\u001b[0m \u001b[0mself\u001b[0m\u001b[0;34m.\u001b[0m\u001b[0mnewton_method\u001b[0m\u001b[0;34m(\u001b[0m\u001b[0mX\u001b[0m\u001b[0;34m,\u001b[0m \u001b[0my\u001b[0m\u001b[0;34m,\u001b[0m \u001b[0mpredictions\u001b[0m\u001b[0;34m,\u001b[0m \u001b[0mtheta\u001b[0m\u001b[0;34m,\u001b[0m \u001b[0mt\u001b[0m\u001b[0;34m,\u001b[0m \u001b[0mB_star\u001b[0m\u001b[0;34m)\u001b[0m\u001b[0;34m\u001b[0m\u001b[0m\n\u001b[0m\u001b[1;32m    374\u001b[0m \u001b[0;34m\u001b[0m\u001b[0m\n\u001b[1;32m    375\u001b[0m         \u001b[0;32mwhile\u001b[0m \u001b[0;36m1\u001b[0m\u001b[0;34m/\u001b[0m\u001b[0mt\u001b[0m \u001b[0;34m>\u001b[0m \u001b[0mtol\u001b[0m \u001b[0;34m:\u001b[0m\u001b[0;34m\u001b[0m\u001b[0m\n",
      "\u001b[0;32m/Users/Schreuder/Google Drive/Thèse/MOM-Q-aggregation/Qagg.py\u001b[0m in \u001b[0;36mnewton_method\u001b[0;34m(self, X, y, F, theta0, t, B_star, tol)\u001b[0m\n\u001b[1;32m    324\u001b[0m \u001b[0;34m\u001b[0m\u001b[0m\n\u001b[1;32m    325\u001b[0m             \u001b[0;31m# update gradient and Hessian in new theta\u001b[0m\u001b[0;34m\u001b[0m\u001b[0;34m\u001b[0m\u001b[0m\n\u001b[0;32m--> 326\u001b[0;31m             \u001b[0mgrad_theta\u001b[0m \u001b[0;34m=\u001b[0m \u001b[0mt\u001b[0m\u001b[0;34m*\u001b[0m\u001b[0mself\u001b[0m\u001b[0;34m.\u001b[0m\u001b[0mgradient_Q\u001b[0m\u001b[0;34m(\u001b[0m\u001b[0mtheta\u001b[0m\u001b[0;34m,\u001b[0m \u001b[0my\u001b[0m\u001b[0;34m,\u001b[0m \u001b[0mF\u001b[0m\u001b[0;34m,\u001b[0m \u001b[0mB_star\u001b[0m\u001b[0;34m)\u001b[0m \u001b[0;34m+\u001b[0m \u001b[0mself\u001b[0m\u001b[0;34m.\u001b[0m\u001b[0mgradient_phi\u001b[0m\u001b[0;34m(\u001b[0m\u001b[0mtheta\u001b[0m\u001b[0;34m)\u001b[0m\u001b[0;34m\u001b[0m\u001b[0m\n\u001b[0m\u001b[1;32m    327\u001b[0m \u001b[0;34m\u001b[0m\u001b[0m\n\u001b[1;32m    328\u001b[0m             \u001b[0mhessian_theta\u001b[0m \u001b[0;34m=\u001b[0m \u001b[0mt\u001b[0m\u001b[0;34m*\u001b[0m\u001b[0mself\u001b[0m\u001b[0;34m.\u001b[0m\u001b[0mhessian_Q\u001b[0m\u001b[0;34m(\u001b[0m\u001b[0mF\u001b[0m\u001b[0;34m,\u001b[0m \u001b[0mB_star\u001b[0m\u001b[0;34m)\u001b[0m \u001b[0;34m+\u001b[0m \u001b[0mself\u001b[0m\u001b[0;34m.\u001b[0m\u001b[0mhessian_phi\u001b[0m\u001b[0;34m(\u001b[0m\u001b[0mtheta\u001b[0m\u001b[0;34m)\u001b[0m\u001b[0;34m\u001b[0m\u001b[0m\n",
      "\u001b[0;31mKeyboardInterrupt\u001b[0m: "
     ]
    }
   ],
   "source": [
    "IP_MOM_regret = test_gaussian_regression_outliers(n_samples=1000, d=20, n_replications=200, \n",
    "                                      prop_outliers=0.3, agg_method='IP_MOM', noise_sd=0.5)"
   ]
  },
  {
   "cell_type": "code",
   "execution_count": 55,
   "metadata": {},
   "outputs": [
    {
     "data": {
      "text/plain": [
       "(0.6386918497233641, 0.12524763380452975)"
      ]
     },
     "execution_count": 55,
     "metadata": {},
     "output_type": "execute_result"
    }
   ],
   "source": [
    "np.mean(np.array(GMA_1_regret)), np.mean(np.array(GMA_1_MOM_regret))"
   ]
  },
  {
   "cell_type": "code",
   "execution_count": 62,
   "metadata": {
    "scrolled": true
   },
   "outputs": [
    {
     "data": {
      "text/plain": [
       "<matplotlib.text.Text at 0x120287438>"
      ]
     },
     "execution_count": 62,
     "metadata": {},
     "output_type": "execute_result"
    },
    {
     "data": {
      "image/png": "[encoded data removed]",
      "text/plain": [
       "<matplotlib.figure.Figure at 0x11a4d9d30>"
      ]
     },
     "metadata": {},
     "output_type": "display_data"
    }
   ],
   "source": [
    "plt.hist(GMA_1_regret, color='green', bins=10)\n",
    "plt.hist(GMA_1_MOM_regret, color='blue')\n",
    "plt.legend(['GMA-1', 'MOM-GMA-1'])\n",
    "plt.title('Histogram of regrets for Gaussian regression (200 replications, 30% of outliers)')"
   ]
  },
  {
   "cell_type": "code",
   "execution_count": 70,
   "metadata": {},
   "outputs": [
    {
     "data": {
      "text/plain": [
       "[<matplotlib.lines.Line2D at 0x1207500b8>]"
      ]
     },
     "execution_count": 70,
     "metadata": {},
     "output_type": "execute_result"
    },
    {
     "data": {
      "image/png": "[encoded data removed]",
      "text/plain": [
       "<matplotlib.figure.Figure at 0x1207500f0>"
      ]
     },
     "metadata": {},
     "output_type": "display_data"
    }
   ],
   "source": [
    "plt.plot(np.sort(GMA_1_regret)[:100], color='green')\n",
    "plt.plot(np.sort(GMA_1_MOM_regret)[:100], color='blue')"
   ]
  },
  {
   "cell_type": "markdown",
   "metadata": {},
   "source": [
    "# Plots"
   ]
  },
  {
   "cell_type": "code",
   "execution_count": null,
   "metadata": {
    "collapsed": true,
    "scrolled": true
   },
   "outputs": [],
   "source": [
    "outliers_props = np.linspace(0, 1, 5)\n",
    "n_replications = 300\n",
    "regrets = np.zeros((n_replicate, len(outliers_props)))\n",
    "for j, prop_outliers in enumerate(outliers_props):\n",
    "    regrets[:,j] = test_gaussian_regression_outliers(n_samples=1000, d=20, n_replications=n_replications, \n",
    "                                      prop_outliers=0., agg_method='GMA_1_MOM', noise_sd=0.5)"
   ]
  },
  {
   "cell_type": "code",
   "execution_count": 13,
   "metadata": {},
   "outputs": [
    {
     "ename": "NameError",
     "evalue": "name 'pd' is not defined",
     "output_type": "error",
     "traceback": [
      "\u001b[0;31m---------------------------------------------------------------------------\u001b[0m",
      "\u001b[0;31mNameError\u001b[0m                                 Traceback (most recent call last)",
      "\u001b[0;32m<ipython-input-13-90cf259c06a8>\u001b[0m in \u001b[0;36m<module>\u001b[0;34m()\u001b[0m\n\u001b[0;32m----> 1\u001b[0;31m \u001b[0mdf\u001b[0m \u001b[0;34m=\u001b[0m \u001b[0mpd\u001b[0m\u001b[0;34m.\u001b[0m\u001b[0mDataFrame\u001b[0m\u001b[0;34m(\u001b[0m\u001b[0mregrets\u001b[0m\u001b[0;34m)\u001b[0m\u001b[0;34m\u001b[0m\u001b[0m\n\u001b[0m\u001b[1;32m      2\u001b[0m \u001b[0mdf\u001b[0m\u001b[0;34m.\u001b[0m\u001b[0mcolumns\u001b[0m \u001b[0;34m=\u001b[0m \u001b[0moutliers_props\u001b[0m\u001b[0;34m\u001b[0m\u001b[0m\n",
      "\u001b[0;31mNameError\u001b[0m: name 'pd' is not defined"
     ]
    }
   ],
   "source": [
    "df = pd.DataFrame(regrets)\n",
    "df.columns = outliers_props"
   ]
  },
  {
   "cell_type": "code",
   "execution_count": 14,
   "metadata": {},
   "outputs": [
    {
     "ename": "NameError",
     "evalue": "name 'sns' is not defined",
     "output_type": "error",
     "traceback": [
      "\u001b[0;31m---------------------------------------------------------------------------\u001b[0m",
      "\u001b[0;31mNameError\u001b[0m                                 Traceback (most recent call last)",
      "\u001b[0;32m<ipython-input-14-a88b387dcb24>\u001b[0m in \u001b[0;36m<module>\u001b[0;34m()\u001b[0m\n\u001b[1;32m      1\u001b[0m \u001b[0;34m\u001b[0m\u001b[0m\n\u001b[0;32m----> 2\u001b[0;31m \u001b[0max\u001b[0m \u001b[0;34m=\u001b[0m \u001b[0msns\u001b[0m\u001b[0;34m.\u001b[0m\u001b[0mviolinplot\u001b[0m\u001b[0;34m(\u001b[0m\u001b[0mdf\u001b[0m\u001b[0;34m,\u001b[0m \u001b[0mscale\u001b[0m\u001b[0;34m=\u001b[0m\u001b[0;34m'count'\u001b[0m\u001b[0;34m)\u001b[0m\u001b[0;34m\u001b[0m\u001b[0m\n\u001b[0m\u001b[1;32m      3\u001b[0m \u001b[0max\u001b[0m\u001b[0;34m.\u001b[0m\u001b[0mset\u001b[0m\u001b[0;34m(\u001b[0m\u001b[0myscale\u001b[0m\u001b[0;34m=\u001b[0m\u001b[0;34m\"log\"\u001b[0m\u001b[0;34m)\u001b[0m\u001b[0;34m\u001b[0m\u001b[0m\n\u001b[1;32m      4\u001b[0m \u001b[0;31m#ax.set_ylim(0, 5)\u001b[0m\u001b[0;34m\u001b[0m\u001b[0;34m\u001b[0m\u001b[0m\n\u001b[1;32m      5\u001b[0m \u001b[0max\u001b[0m\u001b[0;34m.\u001b[0m\u001b[0mhlines\u001b[0m\u001b[0;34m(\u001b[0m\u001b[0mfast_residual_term\u001b[0m\u001b[0;34m,\u001b[0m \u001b[0;34m*\u001b[0m\u001b[0max\u001b[0m\u001b[0;34m.\u001b[0m\u001b[0mget_xlim\u001b[0m\u001b[0;34m(\u001b[0m\u001b[0;34m)\u001b[0m\u001b[0;34m,\u001b[0m \u001b[0malpha\u001b[0m\u001b[0;34m=\u001b[0m\u001b[0;36m0.7\u001b[0m\u001b[0;34m,\u001b[0m \u001b[0mcolor\u001b[0m\u001b[0;34m=\u001b[0m\u001b[0;34m'black'\u001b[0m\u001b[0;34m,\u001b[0m \u001b[0mlinestyle\u001b[0m\u001b[0;34m=\u001b[0m\u001b[0;34m'dashed'\u001b[0m\u001b[0;34m,\u001b[0m \u001b[0mlabel\u001b[0m\u001b[0;34m=\u001b[0m\u001b[0;34m'Optimal regret'\u001b[0m\u001b[0;34m)\u001b[0m\u001b[0;34m\u001b[0m\u001b[0m\n",
      "\u001b[0;31mNameError\u001b[0m: name 'sns' is not defined"
     ]
    }
   ],
   "source": [
    "ax = sns.violinplot(df, scale='count')\n",
    "ax.set(yscale=\"log\")\n",
    "#ax.set_ylim(0, 5)\n",
    "ax.hlines(fast_residual_term, *ax.get_xlim(), alpha=0.7, color='black', linestyle='dashed', label='Optimal regret')\n",
    "plt.legend()\n",
    "plt.title('Distributions of the regret for Q-aggregation')\n",
    "plt.xlabel('Proportion of outliers')\n",
    "plt.ylabel('Regret (log-scale)')"
   ]
  },
  {
   "cell_type": "code",
   "execution_count": 438,
   "metadata": {},
   "outputs": [
    {
     "data": {
      "image/png": "[encoded data removed]",
      "text/plain": [
       "<matplotlib.figure.Figure at 0x11a519a20>"
      ]
     },
     "metadata": {},
     "output_type": "display_data"
    },
    {
     "data": {
      "image/png": "[encoded data removed]",
      "text/plain": [
       "<matplotlib.figure.Figure at 0x11a995828>"
      ]
     },
     "metadata": {},
     "output_type": "display_data"
    },
    {
     "data": {
      "image/png": "[encoded data removed]",
      "text/plain": [
       "<matplotlib.figure.Figure at 0x11a6dc978>"
      ]
     },
     "metadata": {},
     "output_type": "display_data"
    },
    {
     "data": {
      "image/png": "[encoded data removed]",
      "text/plain": [
       "<matplotlib.figure.Figure at 0x11b3f9b38>"
      ]
     },
     "metadata": {},
     "output_type": "display_data"
    },
    {
     "data": {
      "image/png": "[encoded data removed]",
      "text/plain": [
       "<matplotlib.figure.Figure at 0x11aa9fa20>"
      ]
     },
     "metadata": {},
     "output_type": "display_data"
    }
   ],
   "source": [
    "for i in range(5):\n",
    "    plt.hist(regrets[:,i], bins=20)\n",
    "    plt.axvline(fast_residual_term)\n",
    "    plt.show()"
   ]
  },
  {
   "cell_type": "markdown",
   "metadata": {},
   "source": [
    "# MOM version"
   ]
  },
  {
   "cell_type": "code",
   "execution_count": 13,
   "metadata": {},
   "outputs": [
    {
     "data": {
      "text/plain": [
       "19"
      ]
     },
     "execution_count": 13,
     "metadata": {},
     "output_type": "execute_result"
    }
   ],
   "source": [
    "# find median index\n",
    "data = [0, 5, 3, 6, 23, 15, 19, 20, 19, 21]\n",
    "data[numpy.argsort(data)[len(data)//2]]"
   ]
  },
  {
   "cell_type": "code",
   "execution_count": 34,
   "metadata": {},
   "outputs": [
    {
     "name": "stderr",
     "output_type": "stream",
     "text": [
      "100%|██████████| 10/10 [00:25<00:00,  2.56s/it]\n"
     ]
    }
   ],
   "source": [
    "regrets_MOM = []\n",
    "\n",
    "n_replicate = 10\n",
    "\n",
    "for i in tqdm(range(n_replicate)):\n",
    "    X, y = make_gaussian_regression(n_samples, d, noise_sd)\n",
    "\n",
    "    X_train, X_agg, X_test, y_train, y_agg, y_test = train_agg_test_split(X, y, 0.4, 0.3)\n",
    "\n",
    "    predictors = make_function_class_regression()\n",
    "\n",
    "    q = Q_aggregation(predictors)\n",
    "\n",
    "    q.train_predictors(X_train, y_train)\n",
    "\n",
    "    X_agg, y_agg = corrupt_dataset(X_agg, y_agg, prop_outliers=.25, corruption_type='constant')\n",
    "\n",
    "    q.GMA_1_MOM(X_agg, y_agg, 30, 10)\n",
    "\n",
    "    MSE_agg = mean_squared_error(q.predict(X_test), y_test)\n",
    "\n",
    "    oracle_agg = np.min([mean_squared_error(q.predictors[i].predict(X_test), y_test) for i in range(len(predictors))])\n",
    "    worst_agg = np.max([mean_squared_error(q.predictors[i].predict(X_test), y_test) for i in range(len(predictors))])\n",
    "    regrets_MOM.append(MSE_agg - oracle_agg)"
   ]
  },
  {
   "cell_type": "code",
   "execution_count": 20,
   "metadata": {},
   "outputs": [
    {
     "name": "stderr",
     "output_type": "stream",
     "text": [
      "100%|██████████| 300/300 [40:21<00:00,  8.07s/it]\n"
     ]
    }
   ],
   "source": [
    "regrets = []\n",
    "for i in tqdm(range(n_replicate)):\n",
    "    X, y = make_gaussian_regression(n_samples, d, noise_sd)\n",
    "\n",
    "    X_train, X_agg, X_test, y_train, y_agg, y_test = train_agg_test_split(X, y, 0.4, 0.3)\n",
    "\n",
    "    predictors = make_function_class_regression()\n",
    "\n",
    "    q = Q_aggregation(predictors)\n",
    "\n",
    "    q.train_predictors(X_train, y_train)\n",
    "\n",
    "    X_agg, y_agg = corrupt_dataset(X_agg, y_agg, prop_outliers=.25, corruption_type='constant')\n",
    "\n",
    "    q.GMA_1(X_agg, y_agg, 30)\n",
    "\n",
    "    MSE_agg = mean_squared_error(q.predict(X_test), y_test)\n",
    "\n",
    "    oracle_agg = np.min([mean_squared_error(q.predictors[i].predict(X_test), y_test) for i in range(len(predictors))])\n",
    "    worst_agg = np.max([mean_squared_error(q.predictors[i].predict(X_test), y_test) for i in range(len(predictors))])\n",
    "    regrets.append(MSE_agg - oracle_agg)"
   ]
  },
  {
   "cell_type": "code",
   "execution_count": 27,
   "metadata": {
    "collapsed": true
   },
   "outputs": [],
   "source": [
    "regrets_array = np.array([regrets, regrets_MOM]).T\n",
    "df_2 = pd.DataFrame(regrets_array) \n",
    "df_2.columns = [\"Q-aggregation\", \"MOM-Q-aggregation\"]"
   ]
  },
  {
   "cell_type": "code",
   "execution_count": 32,
   "metadata": {
    "scrolled": true
   },
   "outputs": [
    {
     "data": {
      "text/plain": [
       "<matplotlib.collections.LineCollection at 0x11b2f0550>"
      ]
     },
     "execution_count": 32,
     "metadata": {},
     "output_type": "execute_result"
    },
    {
     "data": {
      "image/png": "[encoded data removed]",
      "text/plain": [
       "<matplotlib.figure.Figure at 0x10a37fd30>"
      ]
     },
     "metadata": {},
     "output_type": "display_data"
    }
   ],
   "source": [
    "ax = sns.violinplot(data=df_2, shape='count')\n",
    "ax.hlines(fast_residual_term, *ax.get_xlim(), alpha=0.7, color='black', linestyle='dashed', label='Optimal regret')"
   ]
  },
  {
   "cell_type": "code",
   "execution_count": 29,
   "metadata": {
    "scrolled": true
   },
   "outputs": [
    {
     "data": {
      "text/plain": [
       "0.011552453009332421"
      ]
     },
     "execution_count": 29,
     "metadata": {},
     "output_type": "execute_result"
    }
   ],
   "source": [
    "fast_residual_term = np.log(len(predictors))/y_agg.shape[0]\n",
    "fast_residual_term"
   ]
  },
  {
   "cell_type": "code",
   "execution_count": 1,
   "metadata": {
    "collapsed": true
   },
   "outputs": [],
   "source": []
  },
  {
   "cell_type": "code",
   "execution_count": null,
   "metadata": {
    "collapsed": true
   },
   "outputs": [],
   "source": [
    "def newton_method(theta, B_star):\n",
    "    "
   ]
  }
 ],
 "metadata": {
  "kernelspec": {
   "display_name": "Python 3",
   "language": "python",
   "name": "python3"
  }
 },
 "nbformat": 4,
 "nbformat_minor": 2
}
